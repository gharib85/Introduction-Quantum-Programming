{
 "cells": [
  {
   "cell_type": "markdown",
   "metadata": {},
   "source": [
    "Please check the link for further information :"
   ]
  },
  {
   "cell_type": "markdown",
   "metadata": {},
   "source": [
    "### Notes from Quantum Programming Workshop\n",
    "\n",
    "- There are reversible/irreversible operations \n",
    "- |0> & |1> : ket notation to show q-bits\n",
    "- Apply gate and measure the resılt to learn value of the q-bit\n",
    "- Library use simulators to measuere the resulting operation\n",
    "- Some methods\n",
    "- QuantumCircuit(qReg, cReg) : \n",
    "    - Creates a quantum circuit from qReg (quantum register) & cReg (classical register)\n",
    "- circuit.measure(qReg[index of the bit], cReg[index of the bit])\n",
    "- circuit.draw() # matplotlib drwaing\n",
    "- circuit.execute() # perform test on the circuit\n",
    "\n",
    "* 3 2 1 0 to change the order (reverse_order = True)\n",
    "* probabilistic state ${\\rightarrow}^{PROBABILITYoperator}{\\rightarrow}$ new probabilistic state\n",
    "* The transition table (matrix): probability operator\n",
    "* probabilistic state: non-negative entries which adds up to 1\n",
    "* Idea behind probabilistic states is L1 norm\n",
    "* in experiment beam splitting: probability operator is the beam splitter\n",
    "* 2 Hadamard is identity\n",
    "* 1 Hadamard is coin flipping\n",
    "- Within the quantum system: Square summation adds up to 1.\n",
    "- Quantum Systems use L2 norm. The reason is that L2 norm preserves linearity of the system.\n",
    "- L2 norm: Shortest distance\n",
    "- Any length preserving square matrix is a quantum operator"
   ]
  },
  {
   "cell_type": "code",
   "execution_count": null,
   "metadata": {},
   "outputs": [],
   "source": []
  }
 ],
 "metadata": {
  "kernelspec": {
   "display_name": "Python 3",
   "language": "python",
   "name": "python3"
  },
  "language_info": {
   "codemirror_mode": {
    "name": "ipython",
    "version": 3
   },
   "file_extension": ".py",
   "mimetype": "text/x-python",
   "name": "python",
   "nbconvert_exporter": "python",
   "pygments_lexer": "ipython3",
   "version": "3.7.3"
  }
 },
 "nbformat": 4,
 "nbformat_minor": 2
}
