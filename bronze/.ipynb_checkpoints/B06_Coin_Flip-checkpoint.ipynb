{
 "cells": [
  {
   "cell_type": "markdown",
   "metadata": {},
   "source": [
    "<table>\n",
    "    <tr><td align=\"right\" style=\"background-color:#ffffff;\">\n",
    "        <img src=\"../images/logo.jpg\" width=\"20%\" align=\"right\">\n",
    "    </td></tr>\n",
    "    <tr><td align=\"right\" style=\"color:#777777;background-color:#ffffff;font-size:12px;\">\n",
    "        Abuzer Yakaryilmaz | April 03, 2019 (updated) \n",
    "    </td></tr>\n",
    "    <tr><td align=\"right\" style=\"color:#bbbbbb;background-color:#ffffff;font-size:11px;font-style:italic;\">\n",
    "        This cell contains some macros. If there is a problem with displaying mathematical formulas, please run this cell to load these macros.\n",
    "    </td></tr>\n",
    "</table>\n",
    "$ \\newcommand{\\bra}[1]{\\langle #1|} $\n",
    "$ \\newcommand{\\ket}[1]{|#1\\rangle} $\n",
    "$ \\newcommand{\\braket}[2]{\\langle #1|#2\\rangle} $\n",
    "$ \\newcommand{\\dot}[2]{ #1 \\cdot #2} $\n",
    "$ \\newcommand{\\biginner}[2]{\\left\\langle #1,#2\\right\\rangle} $\n",
    "$ \\newcommand{\\mymatrix}[2]{\\left( \\begin{array}{#1} #2\\end{array} \\right)} $\n",
    "$ \\newcommand{\\myvector}[1]{\\mymatrix{c}{#1}} $\n",
    "$ \\newcommand{\\myrvector}[1]{\\mymatrix{r}{#1}} $\n",
    "$ \\newcommand{\\mypar}[1]{\\left( #1 \\right)} $\n",
    "$ \\newcommand{\\mybigpar}[1]{ \\Big( #1 \\Big)} $\n",
    "$ \\newcommand{\\sqrttwo}{\\frac{1}{\\sqrt{2}}} $\n",
    "$ \\newcommand{\\dsqrttwo}{\\dfrac{1}{\\sqrt{2}}} $\n",
    "$ \\newcommand{\\onehalf}{\\frac{1}{2}} $\n",
    "$ \\newcommand{\\donehalf}{\\dfrac{1}{2}} $\n",
    "$ \\newcommand{\\hadamard}{ \\mymatrix{rr}{ \\sqrttwo & \\sqrttwo \\\\ \\sqrttwo & -\\sqrttwo }} $\n",
    "$ \\newcommand{\\vzero}{\\myvector{1\\\\0}} $\n",
    "$ \\newcommand{\\vone}{\\myvector{0\\\\1}} $\n",
    "$ \\newcommand{\\vhadamardzero}{\\myvector{ \\sqrttwo \\\\  \\sqrttwo } } $\n",
    "$ \\newcommand{\\vhadamardone}{ \\myrvector{ \\sqrttwo \\\\ -\\sqrttwo } } $\n",
    "$ \\newcommand{\\myarray}[2]{ \\begin{array}{#1}#2\\end{array}} $\n",
    "$ \\newcommand{\\X}{ \\mymatrix{cc}{0 & 1 \\\\ 1 & 0}  } $\n",
    "$ \\newcommand{\\Z}{ \\mymatrix{rr}{1 & 0 \\\\ 0 & -1}  } $\n",
    "$ \\newcommand{\\Htwo}{ \\mymatrix{rrrr}{ \\frac{1}{2} & \\frac{1}{2} & \\frac{1}{2} & \\frac{1}{2} \\\\ \\frac{1}{2} & -\\frac{1}{2} & \\frac{1}{2} & -\\frac{1}{2} \\\\ \\frac{1}{2} & \\frac{1}{2} & -\\frac{1}{2} & -\\frac{1}{2} \\\\ \\frac{1}{2} & -\\frac{1}{2} & -\\frac{1}{2} & \\frac{1}{2} } } $\n",
    "$ \\newcommand{\\CNOT}{ \\mymatrix{cccc}{1 & 0 & 0 & 0 \\\\ 0 & 1 & 0 & 0 \\\\ 0 & 0 & 0 & 1 \\\\ 0 & 0 & 1 & 0} } $\n",
    "$ \\newcommand{\\norm}[1]{ \\left\\lVert #1 \\right\\rVert } $"
   ]
  },
  {
   "cell_type": "markdown",
   "metadata": {},
   "source": [
    "<h2> Coin Flip: A Probabilistic Bit </h2>\n",
    "\n",
    "<h3> A fair coin </h3>\n",
    "\n",
    "A coin has two sides: <i>Head</i> and <i>Tail</i>.\n",
    "\n",
    "After flipping a coin, we can get a Head or a Tail. We can represent these two cases by a single bit:\n",
    "<ul>\n",
    "    <li> 0 represents Head </li>\n",
    "    <li> 1 represents Tail </li>\n",
    "</ul>"
   ]
  },
  {
   "cell_type": "markdown",
   "metadata": {},
   "source": [
    "<h3> Flipping a fair coin </h3>\n",
    "\n",
    "If our coin is fair, then the probabilities of obtaining a Head or a Tail are equal:\n",
    "\n",
    "$ p= \\dfrac{1}{2} = 0.5 $.\n",
    "\n",
    "Coin-flipping can be defined as an operator:\n",
    "<ul>\n",
    "    <li> $ FairCoin(Head) = \\frac{1}{2} Head + \\frac{1}{2}Tail $ </li>\n",
    "    <li> $ FairCoin(Tail) = \\frac{1}{2} Head + \\frac{1}{2}Tail $ </li>\n",
    "</ul>\n",
    "$\n",
    "FairCoin = \\begin{array}{c|cc} & \\mathbf{Head} & \\mathbf{Tail} \\\\ \\hline \\mathbf{Head} & \\dfrac{1}{2} & \\dfrac{1}{2} \\\\  \\mathbf{Tail} & \\dfrac{1}{2} & \\dfrac{1}{2}  \\end{array}\n",
    "$\n",
    "\n",
    "Or, by using 0 and 1:\n",
    "\n",
    "$\n",
    "FairCoin = \\begin{array}{c|cc} & \\mathbf{0} & \\mathbf{1} \\\\ \\hline \\mathbf{0} & \\dfrac{1}{2} & \\dfrac{1}{2} \\\\  \\mathbf{1} & \\dfrac{1}{2} & \\dfrac{1}{2}  \\end{array}\n",
    "$"
   ]
  },
  {
   "cell_type": "markdown",
   "metadata": {},
   "source": [
    "<h3> Task 1: Simulating FairCoin in Python</h3>\n",
    "\n",
    "Flip a fair coin 100 times. Calcuate the total number of heads and tails, and then compare them.\n",
    "\n",
    "Do the same experiment 1000 times.\n",
    "\n",
    "Do the same experiment 10,000 times.\n",
    "\n",
    "Do the same experiment 100,000 times.\n",
    "\n",
    "Do your results get close to the ideal case (the numbers of heads and tails are the same)?"
   ]
  },
  {
   "cell_type": "code",
   "execution_count": 12,
   "metadata": {},
   "outputs": [
    {
     "name": "stdout",
     "output_type": "stream",
     "text": [
      "Experiment with 1000 flips | heads: 494 tails: 506\n",
      "Probability | heads: 0.494 tails: 0.506\n",
      "Experiment with 10,000 flips | heads: 5082 tails: 4918\n",
      "Probability | heads: 0.5082 tails: 0.4918\n",
      "Experiment with 100,000 flips | heads: 50067 tails: 49933\n",
      "Probability | heads: 0.050067 tails: 0.049933\n"
     ]
    }
   ],
   "source": [
    "#\n",
    "# your solution is here\n",
    "#\n",
    "from random import randrange\n",
    "\n",
    "def experiment(n):\n",
    "    num_tails = 0\n",
    "    num_heads = 0\n",
    "    for i in range(n):\n",
    "        if(randrange(2) == 0): # 0 is the head\n",
    "            num_heads += 1\n",
    "        else:\n",
    "            num_tails += 1\n",
    "    return num_heads, num_tails\n",
    "\n",
    "num_heads1000, num_tails1000 = experiment(1000)\n",
    "print(\"Experiment with 1000 flips | heads: \" + str(num_heads1000) + \" tails: \" + str(num_tails1000)) \n",
    "print(\"Probability | heads: \" + str(num_heads1000/1000) + \" tails: \" + str(num_tails1000/1000))\n",
    "num_heads10000, num_tails10000 = experiment(10000)\n",
    "print(\"Experiment with 10,000 flips | heads: \" + str(num_heads10000) + \" tails: \" + str(num_tails10000)) \n",
    "print(\"Probability | heads: \" + str(num_heads10000/10000) + \" tails: \" + str(num_tails10000/10000))\n",
    "num_heads100000, num_tails100000 = experiment(100000)\n",
    "print(\"Experiment with 100,000 flips | heads: \" + str(num_heads100000) + \" tails: \" + str(num_tails100000)) \n",
    "print(\"Probability | heads: \" + str(num_heads100000/1000000) + \" tails: \" + str(num_tails100000/1000000))"
   ]
  },
  {
   "cell_type": "markdown",
   "metadata": {},
   "source": [
    "<a href=\"B06_Coin_Flip_Solutions.ipynb#task1\">click for our solution</a>"
   ]
  },
  {
   "cell_type": "markdown",
   "metadata": {},
   "source": [
    "<h3> Flipping a biased coin </h3>\n",
    "\n",
    "Our coin may have a bias. \n",
    "\n",
    "For example, the probability of getting head is greater than the probability of getting tail.\n",
    "\n",
    "Here is an example:\n",
    "\n",
    "$\n",
    "BiasedCoin = \\begin{array}{c|cc} & \\mathbf{Head} & \\mathbf{Tail} \\\\ \\hline \\mathbf{Head} & 0.6 & 0.6 \\\\  \\mathbf{Tail} & 0.4 & 0.4  \\end{array}\n",
    "$\n",
    "\n",
    "Or, by using 0 and 1 as the states:\n",
    "\n",
    "$\n",
    "BiasedCoin = \\begin{array}{c|cc} & \\mathbf{0} & \\mathbf{1} \\\\ \\hline \\mathbf{0} & 0.6 & 0.6\\\\  \\mathbf{1} & 0.4 & 0.4 \\end{array}\n",
    "$"
   ]
  },
  {
   "cell_type": "markdown",
   "metadata": {},
   "source": [
    "<h3> Task 2: Simulating BiasedCoin in Python</h3>\n",
    "\n",
    "Flip the following biased coin 100 times. Calcuate the total numbers of heads and tails, and then compare them.\n",
    "\n",
    "$\n",
    "BiasedCoin = \\begin{array}{c|cc} & \\mathbf{Head} & \\mathbf{Tail} \\\\ \\hline \\mathbf{Head} & 0.6 & 0.6 \\\\  \\mathbf{Tail} & 0.4 & 0.4  \\end{array}\n",
    "$\n",
    "\n",
    "\n",
    "Do the same experiment 1000 times.\n",
    "\n",
    "Do the same experiment 10,000 times.\n",
    "\n",
    "Do the same experiment 100,000 times.\n",
    "\n",
    "Do your results get close to the ideal case $ \\mypar{ \\dfrac{ \\mbox{# of heads} }{ \\mbox{# of tails} } = \\dfrac{0.6}{0.4} = 1.50000000 } $?"
   ]
  },
  {
   "cell_type": "code",
   "execution_count": 18,
   "metadata": {},
   "outputs": [
    {
     "name": "stdout",
     "output_type": "stream",
     "text": [
      "Experiment with 1000 flips | heads: 600 tails: 400\n",
      "Probability | heads: 0.6 tails: 0.4\n",
      "Experiment with 10,000 flips | heads: 5902 tails: 4098\n",
      "Probability | heads: 0.5902 tails: 0.4098\n",
      "Experiment with 100,000 flips | heads: 60216 tails: 39784\n",
      "Probability | heads: 0.060216 tails: 0.039784\n",
      "1.5135732957973054\n"
     ]
    }
   ],
   "source": [
    "#\n",
    "# your solution is here\n",
    "#\n",
    "\n",
    "def experiment(n):\n",
    "    num_tails = 0\n",
    "    num_heads = 0\n",
    "    for i in range(n):\n",
    "        if(randrange(5) < 2): # < 0.4 prob for tail\n",
    "            num_tails += 1\n",
    "        else:\n",
    "            num_heads += 1\n",
    "    return num_heads, num_tails\n",
    "\n",
    "num_heads1000, num_tails1000 = experiment(1000)\n",
    "print(\"Experiment with 1000 flips | heads: \" + str(num_heads1000) + \" tails: \" + str(num_tails1000)) \n",
    "print(\"Probability | heads: \" + str(num_heads1000/1000) + \" tails: \" + str(num_tails1000/1000))\n",
    "num_heads10000, num_tails10000 = experiment(10000)\n",
    "print(\"Experiment with 10,000 flips | heads: \" + str(num_heads10000) + \" tails: \" + str(num_tails10000)) \n",
    "print(\"Probability | heads: \" + str(num_heads10000/10000) + \" tails: \" + str(num_tails10000/10000))\n",
    "num_heads100000, num_tails100000 = experiment(100000)\n",
    "print(\"Experiment with 100,000 flips | heads: \" + str(num_heads100000) + \" tails: \" + str(num_tails100000)) \n",
    "print(\"Probability | heads: \" + str(num_heads100000/1000000) + \" tails: \" + str(num_tails100000/1000000))\n",
    "# proportion of heads and tails\n",
    "print(str((num_heads100000)/(num_tails100000)))"
   ]
  },
  {
   "cell_type": "markdown",
   "metadata": {},
   "source": [
    "<a href=\"B06_Coin_Flip_Solutions.ipynb#task2\">click for our solution</a>"
   ]
  },
  {
   "cell_type": "code",
   "execution_count": null,
   "metadata": {},
   "outputs": [],
   "source": []
  }
 ],
 "metadata": {
  "kernelspec": {
   "display_name": "Python 3",
   "language": "python",
   "name": "python3"
  },
  "language_info": {
   "codemirror_mode": {
    "name": "ipython",
    "version": 3
   },
   "file_extension": ".py",
   "mimetype": "text/x-python",
   "name": "python",
   "nbconvert_exporter": "python",
   "pygments_lexer": "ipython3",
   "version": "3.7.3"
  }
 },
 "nbformat": 4,
 "nbformat_minor": 2
}
