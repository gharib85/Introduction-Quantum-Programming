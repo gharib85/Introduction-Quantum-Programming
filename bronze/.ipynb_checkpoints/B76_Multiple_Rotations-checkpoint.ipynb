{
 "cells": [
  {
   "cell_type": "markdown",
   "metadata": {},
   "source": [
    "<table>\n",
    "    <tr><td align=\"right\" style=\"background-color:#ffffff;\">\n",
    "        <img src=\"../images/logo.jpg\" width=\"20%\" align=\"right\">\n",
    "    </td></tr>\n",
    "    <tr><td align=\"right\" style=\"color:#777777;background-color:#ffffff;font-size:12px;\">\n",
    "        Abuzer Yakaryilmaz | April 30, 2019 (updated) \n",
    "    </td></tr>\n",
    "    <tr><td align=\"right\" style=\"color:#bbbbbb;background-color:#ffffff;font-size:11px;font-style:italic;\">\n",
    "        This cell contains some macros. If there is a problem with displaying mathematical formulas, please run this cell to load these macros.\n",
    "    </td></tr>\n",
    "</table>\n",
    "$ \\newcommand{\\bra}[1]{\\langle #1|} $\n",
    "$ \\newcommand{\\ket}[1]{|#1\\rangle} $\n",
    "$ \\newcommand{\\braket}[2]{\\langle #1|#2\\rangle} $\n",
    "$ \\newcommand{\\dot}[2]{ #1 \\cdot #2} $\n",
    "$ \\newcommand{\\biginner}[2]{\\left\\langle #1,#2\\right\\rangle} $\n",
    "$ \\newcommand{\\mymatrix}[2]{\\left( \\begin{array}{#1} #2\\end{array} \\right)} $\n",
    "$ \\newcommand{\\myvector}[1]{\\mymatrix{c}{#1}} $\n",
    "$ \\newcommand{\\myrvector}[1]{\\mymatrix{r}{#1}} $\n",
    "$ \\newcommand{\\mypar}[1]{\\left( #1 \\right)} $\n",
    "$ \\newcommand{\\mybigpar}[1]{ \\Big( #1 \\Big)} $\n",
    "$ \\newcommand{\\sqrttwo}{\\frac{1}{\\sqrt{2}}} $\n",
    "$ \\newcommand{\\dsqrttwo}{\\dfrac{1}{\\sqrt{2}}} $\n",
    "$ \\newcommand{\\onehalf}{\\frac{1}{2}} $\n",
    "$ \\newcommand{\\donehalf}{\\dfrac{1}{2}} $\n",
    "$ \\newcommand{\\hadamard}{ \\mymatrix{rr}{ \\sqrttwo & \\sqrttwo \\\\ \\sqrttwo & -\\sqrttwo }} $\n",
    "$ \\newcommand{\\vzero}{\\myvector{1\\\\0}} $\n",
    "$ \\newcommand{\\vone}{\\myvector{0\\\\1}} $\n",
    "$ \\newcommand{\\vhadamardzero}{\\myvector{ \\sqrttwo \\\\  \\sqrttwo } } $\n",
    "$ \\newcommand{\\vhadamardone}{ \\myrvector{ \\sqrttwo \\\\ -\\sqrttwo } } $\n",
    "$ \\newcommand{\\myarray}[2]{ \\begin{array}{#1}#2\\end{array}} $\n",
    "$ \\newcommand{\\X}{ \\mymatrix{cc}{0 & 1 \\\\ 1 & 0}  } $\n",
    "$ \\newcommand{\\Z}{ \\mymatrix{rr}{1 & 0 \\\\ 0 & -1}  } $\n",
    "$ \\newcommand{\\Htwo}{ \\mymatrix{rrrr}{ \\frac{1}{2} & \\frac{1}{2} & \\frac{1}{2} & \\frac{1}{2} \\\\ \\frac{1}{2} & -\\frac{1}{2} & \\frac{1}{2} & -\\frac{1}{2} \\\\ \\frac{1}{2} & \\frac{1}{2} & -\\frac{1}{2} & -\\frac{1}{2} \\\\ \\frac{1}{2} & -\\frac{1}{2} & -\\frac{1}{2} & \\frac{1}{2} } } $\n",
    "$ \\newcommand{\\CNOT}{ \\mymatrix{cccc}{1 & 0 & 0 & 0 \\\\ 0 & 1 & 0 & 0 \\\\ 0 & 0 & 0 & 1 \\\\ 0 & 0 & 1 & 0} } $\n",
    "$ \\newcommand{\\norm}[1]{ \\left\\lVert #1 \\right\\rVert } $"
   ]
  },
  {
   "cell_type": "markdown",
   "metadata": {},
   "source": [
    "<h2>Multiple Rotations</h2>"
   ]
  },
  {
   "cell_type": "markdown",
   "metadata": {},
   "source": [
    "The trivial way of implementing more than one rotation in parallel is to use a separate qubit for each rotation.\n",
    "\n",
    "If we have $ t $ different rotations with angles $ \\theta_1,\\ldots,\\theta_t $, then we can use $ t $ qubits.\n",
    "\n",
    "Alternatively, we can use $ \\log_2 (t) + 1 $ qubits (assuming that $t$ is a power of 2) that implement the following unitary matrix:"
   ]
  },
  {
   "cell_type": "markdown",
   "metadata": {},
   "source": [
    "$$\n",
    "    R(\\theta_1,\\ldots,\\theta_t) = \n",
    "    \\mymatrix{rr|rr|cc|rr}{\n",
    "        \\cos \\theta_1 & -\\sin \\theta_1 & 0 & 0 & \\cdots & \\cdots & 0 & 0 \\\\ \n",
    "        \\sin \\theta_1 & \\cos \\theta_1 & 0 & 0 & \\cdots & \\cdots & 0 & 0 \\\\ \\hline\n",
    "        0 & 0 & \\cos \\theta_2 & -\\sin \\theta_2 & \\cdots & \\cdots  & 0 & 0  \\\\ \n",
    "        0 & 0 & \\sin \\theta_2 & \\cos \\theta_2 & \\cdots & \\cdots  & 0 & 0 \\\\ \\hline\n",
    "        \\vdots & \\vdots & \\vdots & \\vdots & \\ddots & & \\vdots & \\vdots \\\\ \n",
    "        \\vdots & \\vdots & \\vdots & \\vdots & & \\ddots & \\vdots & \\vdots \\\\ \\hline\n",
    "        0 & 0 & 0 & 0 & \\cdots & \\cdots & \\cos \\theta_t & -\\sin \\theta_t \\\\ \n",
    "        0 & 0 & 0 & 0 & \\cdots & \\cdots & \\sin \\theta_t & \\cos \\theta_t \\\\ \n",
    "    } .\n",
    "$$"
   ]
  },
  {
   "cell_type": "markdown",
   "metadata": {},
   "source": [
    "We can use this idea to solve the problem $\\sf MOD_p$ (see <a href=\"B72_Rotation_Automata.ipynb\" target=\"_blank\">Rotation Automata</a>). \n",
    "\n",
    "We implement $ t $ rotation automata in this way.\n",
    "\n",
    "At the beginning of the computation, we apply Hadamard operator in each qubit. Then, we apply the operator $ R(\\theta_1,\\ldots,\\theta_t) $ for each symbol from the stream. Once the stream is finished, we apply Hadamard operator in each qubit again. \n",
    "\n",
    "If we observe only state 0 in each qubit, then we consider the stream having the length of a multiple of $\\sf p$. Otherwise, we consider the stream having the length of not a multiple of $\\sf p$."
   ]
  },
  {
   "cell_type": "markdown",
   "metadata": {},
   "source": [
    "<h3> Constructing $ R(\\theta_1,\\theta_2) $ </h3>"
   ]
  },
  {
   "cell_type": "markdown",
   "metadata": {},
   "source": [
    "When $t=2$, $ \\log_2 (2) + 1 = 2 $. So, both implementations use the same number of qubits.\n",
    "\n",
    "But, it is a good starting point to construct the following unitary operator:"
   ]
  },
  {
   "cell_type": "markdown",
   "metadata": {},
   "source": [
    "$$\n",
    "    R(\\theta_1,\\theta_2) =\n",
    "    \\mymatrix{rrrr}{ \n",
    "        \\cos \\theta_1 & -\\sin \\theta_1 & 0 & 0 \\\\\n",
    "        \\sin \\theta_1 & \\cos \\theta_1 & 0 & 0 \\\\\n",
    "        0 & 0 & \\cos \\theta_2 & -\\sin \\theta_2 \\\\\n",
    "        0 & 0 & \\sin \\theta_2 & \\cos \\theta_2 \\\\\n",
    "    } .\n",
    "$$"
   ]
  },
  {
   "cell_type": "markdown",
   "metadata": {},
   "source": [
    "<div style=\"background-color:#f8f8f8;\">\n",
    "<b> Technical Remark:</b>\n",
    "\n",
    "When two qubits are combined (tensored) in qiskit, say $  qreg[0] $ and $ qreg[1] $, they are ordered as $ qreg[1] \\otimes qreg[0] $.\n",
    "\n",
    "If there are $n$ qubits, say $ qreg[0],\\ldots,qreg[n-1] $ to be combined, they are ordered in qiskit as \n",
    "\n",
    "$$ qreg[n-1] \\otimes \\cdots \\otimes qreg[0] .  $$\n",
    "</div>"
   ]
  },
  {
   "cell_type": "markdown",
   "metadata": {},
   "source": [
    "We use a controlled rotation gate $ cu3 $ in qiskit. \n",
    "\n",
    "<b> Gate $u3$: </b>\n",
    "\n",
    "The gate $ u3 $ is a generic one-qubit gate for rotation on Bloch sphere. It takes three parameters, and if we pass zeros as the second and third parameters, we implement our rotation gate $ ry $:\n",
    "\n",
    "    u3(2*theta,0,0,qubit)\n",
    "is equivalent to\n",
    "\n",
    "    ry(2*theta,qubit)\n",
    "Both make a rotation with angle $\\theta$ in the real-valued qubit in counter-clockwise direction."
   ]
  },
  {
   "cell_type": "markdown",
   "metadata": {},
   "source": [
    "<b> Gate $cu3$: </b>\n",
    "\n",
    "The two-qubit gate $ cu3 $ takes five parameters. We use it as follows:\n",
    "\n",
    "    cu3(2*theta,0,0,control_qubit,target_qubit)\n",
    "If the control gate is in state $ \\ket{1} $, then the rotation\n",
    "    \n",
    "    ry(2*theta,target_qubit)\n",
    "is applied (to the target qubit).   "
   ]
  },
  {
   "cell_type": "markdown",
   "metadata": {},
   "source": [
    "The base states of two qubits are ordered as $ \\myarray{c}{00 \\\\ 01 \\\\ 10 \\\\ 11 } $ \n",
    "or equivalently grouped as $ \\myarray{c}{ 0 \\otimes \\myvector{0 \\\\ 1} \\\\ \\hline 1 \\otimes \\myvector{0 \\\\ 1} } $. \n",
    "\n",
    "We can apply a rotation to the first qubit controlled by the second qubit.\n",
    "\n",
    "To construct $ R(\\theta_1,\\theta_2) $:\n",
    "<ol>\n",
    "    <li> When the second qubit is in state $ \\ket{0} $, we can apply the rotation with angle $ \\theta_1 $. </li>\n",
    "    <li> When the second qubit is in state $ \\ket{1} $, we can apply the rotation with angle $ \\theta_2 $. </li>\n",
    "</ol>\n",
    "\n",
    "Now, we implement this by also printing the constructed unitary matrix."
   ]
  },
  {
   "cell_type": "code",
   "execution_count": 1,
   "metadata": {},
   "outputs": [
    {
     "name": "stdout",
     "output_type": "stream",
     "text": [
      "   0.707  -0.707     0.0     0.0\n",
      "   0.707   0.707     0.0     0.0\n",
      "     0.0     0.0   0.866    -0.5\n",
      "     0.0     0.0     0.5   0.866\n"
     ]
    }
   ],
   "source": [
    "from qiskit import QuantumRegister, ClassicalRegister, QuantumCircuit, execute, Aer\n",
    "from math import pi\n",
    "\n",
    "# the angles of rotations\n",
    "theta1 = pi/4\n",
    "theta2 = pi/6\n",
    "\n",
    "# the circuit with two qubits\n",
    "qreg =  QuantumRegister(2) \n",
    "creg = ClassicalRegister(2) \n",
    "mycircuit = QuantumCircuit(qreg,creg)\n",
    "\n",
    "\n",
    "# when the second qubit is in |0>, the first qubit is rotated by theta1\n",
    "mycircuit.x(qreg[1])\n",
    "mycircuit.cu3(2*theta1,0,0,qreg[1],qreg[0])\n",
    "mycircuit.x(qreg[1])\n",
    "\n",
    "# when the second qubit is in |1>, the first qubit is rotated by theta2\n",
    "mycircuit.cu3(2*theta2,0,0,qreg[1],qreg[0])\n",
    "              \n",
    "# we read the unitary matrix\n",
    "job = execute(mycircuit,Aer.get_backend('unitary_simulator'))\n",
    "u=job.result().get_unitary(mycircuit,decimals=3)\n",
    "# we print the unitary matrix in nice format\n",
    "for i in range(len(u)):\n",
    "    s=\"\"\n",
    "    for j in range(len(u)):\n",
    "        val = str(u[i][j].real)\n",
    "        while(len(val)<8): val  = \" \"+val\n",
    "        s = s + val\n",
    "    print(s)\n",
    "    \n",
    "\n"
   ]
  },
  {
   "cell_type": "markdown",
   "metadata": {},
   "source": [
    "<h3>Task 1</h3>\n",
    "\n",
    "Verify that the printed matrix is $ R(\\pi/4,\\pi/6) $."
   ]
  },
  {
   "cell_type": "code",
   "execution_count": 2,
   "metadata": {},
   "outputs": [
    {
     "name": "stdout",
     "output_type": "stream",
     "text": [
      "0.707 -0.707 0 0\n",
      "0.707 -0.707 0 0\n",
      "0 0 0.866 -0.5\n",
      "0 0 0.5 -0.866\n"
     ]
    }
   ],
   "source": [
    "#\n",
    "# your code is here\n",
    "#\n",
    "from math import pi, sin, cos\n",
    "\n",
    "theta1 = pi/4\n",
    "theta2 = pi/6\n",
    "\n",
    "print(round(cos(theta1),3),-round(sin(theta1),3),0,0)\n",
    "print(round(sin(theta1),3),-round(cos(theta1),3),0,0)\n",
    "print(0,0,round(cos(theta2),3),-round(sin(theta2),3))\n",
    "print(0,0,round(sin(theta2),3),-round(cos(theta2),3))"
   ]
  },
  {
   "cell_type": "markdown",
   "metadata": {},
   "source": [
    "<a href=\"B76_Multiple_Rotations_Solutions.ipynb#task1\">click for our solution</a>"
   ]
  },
  {
   "cell_type": "markdown",
   "metadata": {},
   "source": [
    "<h3> Constructing $ R(\\theta_1,\\theta_2,\\theta_3,\\theta_4) $ </h3>"
   ]
  },
  {
   "cell_type": "markdown",
   "metadata": {},
   "source": [
    "We can use $ \\log_2(4) + 1 = 3 $ qubits to construct $ R(\\theta_1,\\theta_2,\\theta_3,\\theta_4) $."
   ]
  },
  {
   "cell_type": "markdown",
   "metadata": {},
   "source": [
    "The base states of three qubits are ordered as $ \\myarray{c}{000 \\\\ 001 \\\\ 010 \\\\ 011 \\\\ 100 \\\\ 101 \\\\ 110 \\\\ 111 } $ \n",
    "or equivalently grouped as $ \n",
    "    \\myarray{c}{ \n",
    "    00 \\otimes \\myvector{0 \\\\ 1} \\\\ \\hline \n",
    "    01 \\otimes \\myvector{0 \\\\ 1} \\\\ \\hline \n",
    "    10 \\otimes \\myvector{0 \\\\ 1}  \\\\ \\hline \n",
    "    11 \\otimes \\myvector{0 \\\\ 1} \n",
    "    } $. "
   ]
  },
  {
   "cell_type": "markdown",
   "metadata": {},
   "source": [
    "By using a rotation gate controlled by two qubits, we can easily implement our unitary operator.\n",
    "\n",
    "But, if we have a rotation gate controlled by only one qubit, then we use additional tricks (and qubits) and controlled CNOT gate by two qubits (also called Toffoli gate):\n",
    "\n",
    "    circuit.ccx(control-qubit1,control-qubit2,target-qubit)\n",
    "<div style=\"background-color:#f9f9f9;\">\n",
    "In general, if $ t = 2^n $, then we can construct $ R(\\theta_1,\\ldots,\\theta_t) $ by using no more than $ 2\\log_2(t) $ qubits (instead of $t$ qubits). \n",
    "</div>"
   ]
  },
  {
   "cell_type": "markdown",
   "metadata": {},
   "source": [
    "<h3> Pseudo construction </h3>\n",
    "    \n",
    "We start with a construction using three angles."
   ]
  },
  {
   "cell_type": "markdown",
   "metadata": {},
   "source": [
    "<h3> Task 2</h3>\n",
    "\n",
    "Consider a quantum circuit with 3 qubits.\n",
    "\n",
    "When the third qubit is in state $ \\ket{1} $, apply the gate \n",
    "\n",
    "    cu3(theta1,0,0,qreg[2],qreg[0]) \n",
    "\n",
    "When the second qubit is in state $ \\ket{1} $, apply the gate\n",
    "    \n",
    "    cu3(theta2,0,0,qreg[1],qreg[0])\n",
    "    \n",
    "When the third qubit is in state $ \\ket{0} $, apply the gate\n",
    "\n",
    "    cu3(theta3,0,0,qreg[2],qreg[0])\n",
    "\n",
    "Guess the corresponding unitary matrix, which should be of the form:\n",
    "\n",
    "$$\n",
    "    \\mymatrix{rr|rr|rr|rr}{\n",
    "        \\cos a_1 & -\\sin a_1 & 0 & 0 & 0 & 0 & 0 & 0 \\\\\n",
    "        \\sin a_1 & \\cos a_1 & 0 & 0 & 0 & 0 & 0 & 0 \\\\ \\hline\n",
    "        0 & 0 & \\cos a_2 & -\\sin a_2 & 0 & 0 & 0 & 0  \\\\\n",
    "         0 & 0 & \\sin a_2 & \\cos a_2 & 0 & 0 & 0 & 0 \\\\ \\hline\n",
    "        0 & 0 & 0 & 0 & \\cos a_3 & -\\sin a_3 & 0 & 0  \\\\\n",
    "         0 & 0 & 0 & 0 & \\sin a_3 & \\cos a_3 & 0 & 0  \\\\ \\hline\n",
    "        0 & 0 & 0 & 0 & 0 & 0 & \\cos a_4 & -\\sin a_4 \\\\\n",
    "        0 & 0 & 0 & 0 & 0 & 0 & \\sin a_4 & \\cos a_4 \\\\ \n",
    "    }\n",
    "$$\n",
    "\n",
    "In other words, find $a_1$, $ a_2 $, $a_3$, and $a_4$ in terms of $ \\theta_1 $, $\\theta_2$, and $ \\theta_3 $."
   ]
  },
  {
   "cell_type": "markdown",
   "metadata": {},
   "source": [
    "<a href=\"B76_Multiple_Rotations_Solutions.ipynb#task2\">click for our solution</a>"
   ]
  },
  {
   "cell_type": "markdown",
   "metadata": {},
   "source": [
    "<h3>Task 3</h3>\n",
    "\n",
    "Implement Task 2 by picking three angles, and verify the constructed matrix."
   ]
  },
  {
   "cell_type": "code",
   "execution_count": 3,
   "metadata": {},
   "outputs": [
    {
     "name": "stdout",
     "output_type": "stream",
     "text": [
      "a1 = theta3 => sin(a1) =  0.52\n",
      "a2 = theta2+theta3 => sin(a2) =  0.731\n",
      "a3 = theta1 => sin(a3) =  0.136\n",
      "a4 = theta1+theta2 => sin(a4) =  0.398\n",
      "\n",
      "  0.854  -0.52    0.0    0.0    0.0    0.0    0.0    0.0\n",
      "   0.52  0.854    0.0    0.0    0.0    0.0    0.0    0.0\n",
      "    0.0    0.0  0.683 -0.731    0.0    0.0    0.0    0.0\n",
      "    0.0    0.0  0.731  0.683    0.0    0.0    0.0    0.0\n",
      "    0.0    0.0    0.0    0.0  0.991 -0.136    0.0    0.0\n",
      "    0.0    0.0    0.0    0.0  0.136  0.991    0.0    0.0\n",
      "    0.0    0.0    0.0    0.0    0.0    0.0  0.917 -0.398\n",
      "    0.0    0.0    0.0    0.0    0.0    0.0  0.398  0.917\n"
     ]
    }
   ],
   "source": [
    "#\n",
    "# your solution is here\n",
    "#\n",
    "from qiskit import QuantumRegister, ClassicalRegister, QuantumCircuit, execute, Aer\n",
    "from math import pi, sin, cos\n",
    "\n",
    "# the angle of rotation\n",
    "theta1 = pi/23\n",
    "theta2 = 2*pi/23\n",
    "theta3 = 4*pi/23\n",
    "\n",
    "precision = 3\n",
    "\n",
    "print(\"a1 = theta3 => sin(a1) = \",round(sin(theta3),precision))\n",
    "print(\"a2 = theta2+theta3 => sin(a2) = \",round(sin(theta2+theta3),precision))\n",
    "print(\"a3 = theta1 => sin(a3) = \",round(sin(theta1),precision))\n",
    "print(\"a4 = theta1+theta2 => sin(a4) = \",round(sin(theta1+theta2),precision))\n",
    "print()\n",
    "\n",
    "qreg = QuantumRegister(3) \n",
    "creg = ClassicalRegister(3) \n",
    "circuit = QuantumCircuit(qreg,creg)\n",
    "\n",
    "# controlled rotation when the third qubit is |1>\n",
    "circuit.cu3(2*theta1,0,0,qreg[2],qreg[0])\n",
    "\n",
    "# controlled rotation when the second qubit is |1>\n",
    "circuit.cu3(2*theta2,0,0,qreg[1],qreg[0])\n",
    "\n",
    "# controlled rotation when the third qubit is |0>\n",
    "circuit.x(qreg[2])\n",
    "circuit.cu3(2*theta3,0,0,qreg[2],qreg[0])\n",
    "circuit.x(qreg[2])\n",
    "\n",
    "# read the corresponding unitary matrix\n",
    "job = execute(circuit,Aer.get_backend('unitary_simulator'))\n",
    "unitary_matrix=job.result().get_unitary(circuit,decimals=precision)\n",
    "for i in range(len(unitary_matrix)):\n",
    "    s=\"\"\n",
    "    for j in range(len(unitary_matrix)):\n",
    "        val = str(unitary_matrix[i][j].real)\n",
    "        while(len(val)<precision+4): val  = \" \"+val\n",
    "        s = s + val\n",
    "    print(s)"
   ]
  },
  {
   "cell_type": "markdown",
   "metadata": {},
   "source": [
    "<a href=\"B76_Multiple_Rotations_Solutions.ipynb#task3\">click for our solution</a>"
   ]
  },
  {
   "cell_type": "markdown",
   "metadata": {},
   "source": [
    "<h3>Task 4</h3>\n",
    "\n",
    "Create a circuit for solving problem $ \\sf MOD_{31} $ by using the implementation in Task 3.\n",
    "\n",
    "Pick $ \\theta_1 $, $ \\theta_2 $, and $ \\theta_3 $ randomly.\n",
    "\n",
    "At the beginning of the stream and after reading the stream, apply Hadamard operators to each qubit.\n",
    "\n",
    "Execute your quantum program on the streams of lengths from 1 to 31."
   ]
  },
  {
   "cell_type": "code",
   "execution_count": 4,
   "metadata": {},
   "outputs": [
    {
     "name": "stdout",
     "output_type": "stream",
     "text": [
      "stream of length 1 is being read\n",
      "{'001': 27, '010': 24, '110': 272, '100': 99, '111': 83, '101': 342, '000': 80, '011': 73}\n",
      "000 is observed 80 times out of 1000\n",
      "the ration of 000 is  8.0 %\n",
      "\n",
      "stream of length 2 is being read\n",
      "{'001': 12, '010': 238, '110': 187, '100': 9, '111': 445, '101': 2, '000': 1, '011': 106}\n",
      "000 is observed 1 times out of 1000\n",
      "the ration of 000 is  0.1 %\n",
      "\n",
      "stream of length 3 is being read\n",
      "{'001': 279, '010': 682, '111': 26, '100': 10, '000': 2, '011': 1}\n",
      "000 is observed 2 times out of 1000\n",
      "the ration of 000 is  0.2 %\n",
      "\n",
      "stream of length 4 is being read\n",
      "{'001': 53, '010': 6, '110': 11, '100': 661, '111': 84, '101': 168, '000': 16, '011': 1}\n",
      "000 is observed 16 times out of 1000\n",
      "the ration of 000 is  1.6 %\n",
      "\n",
      "stream of length 5 is being read\n",
      "{'001': 151, '010': 23, '110': 44, '100': 122, '111': 29, '101': 251, '000': 327, '011': 53}\n",
      "000 is observed 327 times out of 1000\n",
      "the ration of 000 is  32.7 %\n",
      "\n",
      "stream of length 6 is being read\n",
      "{'001': 1, '010': 6, '111': 2, '101': 26, '110': 119, '000': 160, '011': 686}\n",
      "000 is observed 160 times out of 1000\n",
      "the ration of 000 is  16.0 %\n",
      "\n",
      "stream of length 7 is being read\n",
      "{'111': 137, '101': 55, '110': 799, '100': 8, '011': 1}\n",
      "000 is observed 0 times out of 1000\n",
      "the ration of 000 is  0.0 %\n",
      "\n",
      "stream of length 8 is being read\n",
      "{'001': 321, '010': 160, '110': 29, '100': 108, '111': 33, '101': 53, '000': 202, '011': 94}\n",
      "000 is observed 202 times out of 1000\n",
      "the ration of 000 is  20.2 %\n",
      "\n",
      "stream of length 9 is being read\n",
      "{'001': 648, '010': 9, '111': 1, '101': 6, '100': 325, '000': 11}\n",
      "000 is observed 11 times out of 1000\n",
      "the ration of 000 is  1.1 %\n",
      "\n",
      "stream of length 10 is being read\n",
      "{'001': 12, '010': 6, '111': 439, '101': 51, '110': 56, '100': 435, '011': 1}\n",
      "000 is observed 0 times out of 1000\n",
      "the ration of 000 is  0.0 %\n",
      "\n",
      "stream of length 11 is being read\n",
      "{'001': 1, '010': 373, '111': 32, '110': 58, '000': 1, '011': 535}\n",
      "000 is observed 1 times out of 1000\n",
      "the ration of 000 is  0.1 %\n",
      "\n",
      "stream of length 12 is being read\n",
      "{'001': 4, '010': 10, '110': 316, '100': 6, '111': 14, '101': 172, '000': 175, '011': 303}\n",
      "000 is observed 175 times out of 1000\n",
      "the ration of 000 is  17.5 %\n",
      "\n",
      "stream of length 13 is being read\n",
      "{'001': 10, '111': 6, '101': 775, '110': 23, '100': 71, '000': 112, '011': 3}\n",
      "000 is observed 112 times out of 1000\n",
      "the ration of 000 is  11.2 %\n",
      "\n",
      "stream of length 14 is being read\n",
      "{'001': 383, '010': 130, '101': 4, '110': 3, '100': 12, '000': 346, '011': 122}\n",
      "000 is observed 346 times out of 1000\n",
      "the ration of 000 is  34.6 %\n",
      "\n",
      "stream of length 15 is being read\n",
      "{'001': 33, '010': 234, '110': 33, '100': 81, '111': 603, '101': 1, '000': 2, '011': 13}\n",
      "000 is observed 2 times out of 1000\n",
      "the ration of 000 is  0.2 %\n",
      "\n",
      "stream of length 16 is being read\n",
      "{'001': 33, '010': 231, '110': 51, '100': 87, '111': 582, '101': 6, '000': 1, '011': 9}\n",
      "000 is observed 1 times out of 1000\n",
      "the ration of 000 is  0.1 %\n",
      "\n",
      "stream of length 17 is being read\n",
      "{'001': 396, '010': 139, '101': 4, '100': 2, '000': 361, '011': 98}\n",
      "000 is observed 361 times out of 1000\n",
      "the ration of 000 is  36.1 %\n",
      "\n",
      "stream of length 18 is being read\n",
      "{'001': 7, '111': 2, '101': 752, '110': 43, '100': 87, '000': 109}\n",
      "000 is observed 109 times out of 1000\n",
      "the ration of 000 is  10.9 %\n",
      "\n",
      "stream of length 19 is being read\n",
      "{'001': 2, '010': 13, '110': 287, '100': 13, '111': 9, '101': 201, '000': 206, '011': 269}\n",
      "000 is observed 206 times out of 1000\n",
      "the ration of 000 is  20.6 %\n",
      "\n",
      "stream of length 20 is being read\n",
      "{'001': 1, '010': 396, '111': 33, '110': 59, '000': 2, '011': 509}\n",
      "000 is observed 2 times out of 1000\n",
      "the ration of 000 is  0.2 %\n",
      "\n",
      "stream of length 21 is being read\n",
      "{'001': 5, '010': 13, '110': 67, '100': 421, '111': 444, '101': 48, '000': 1, '011': 1}\n",
      "000 is observed 1 times out of 1000\n",
      "the ration of 000 is  0.1 %\n",
      "\n",
      "stream of length 22 is being read\n",
      "{'001': 662, '010': 6, '111': 6, '101': 6, '100': 307, '000': 13}\n",
      "000 is observed 13 times out of 1000\n",
      "the ration of 000 is  1.3 %\n",
      "\n",
      "stream of length 23 is being read\n",
      "{'001': 338, '010': 151, '110': 32, '100': 90, '111': 51, '101': 63, '000': 192, '011': 83}\n",
      "000 is observed 192 times out of 1000\n",
      "the ration of 000 is  19.2 %\n",
      "\n",
      "stream of length 24 is being read\n",
      "{'111': 124, '010': 1, '101': 62, '110': 804, '100': 7, '000': 1, '011': 1}\n",
      "000 is observed 1 times out of 1000\n",
      "the ration of 000 is  0.1 %\n",
      "\n",
      "stream of length 25 is being read\n",
      "{'001': 2, '010': 8, '110': 119, '100': 1, '111': 1, '101': 27, '000': 177, '011': 665}\n",
      "000 is observed 177 times out of 1000\n",
      "the ration of 000 is  17.7 %\n",
      "\n",
      "stream of length 26 is being read\n",
      "{'001': 167, '010': 36, '110': 46, '100': 100, '111': 23, '101': 248, '000': 319, '011': 61}\n",
      "000 is observed 319 times out of 1000\n",
      "the ration of 000 is  31.9 %\n",
      "\n",
      "stream of length 27 is being read\n",
      "{'001': 40, '010': 5, '111': 60, '101': 174, '110': 20, '100': 692, '000': 9}\n",
      "000 is observed 9 times out of 1000\n",
      "the ration of 000 is  0.9 %\n",
      "\n",
      "stream of length 28 is being read\n",
      "{'001': 256, '100': 14, '111': 24, '010': 706}\n",
      "000 is observed 0 times out of 1000\n",
      "the ration of 000 is  0.0 %\n",
      "\n",
      "stream of length 29 is being read\n",
      "{'001': 4, '010': 259, '110': 151, '100': 12, '111': 459, '101': 4, '000': 3, '011': 108}\n",
      "000 is observed 3 times out of 1000\n",
      "the ration of 000 is  0.3 %\n",
      "\n",
      "stream of length 30 is being read\n",
      "{'001': 20, '010': 21, '110': 252, '100': 110, '111': 75, '101': 367, '000': 80, '011': 75}\n",
      "000 is observed 80 times out of 1000\n",
      "the ration of 000 is  8.0 %\n",
      "\n",
      "stream of length 31 is being read\n",
      "{'000': 1000}\n",
      "000 is observed 1000 times out of 1000\n",
      "the ration of 000 is  100.0 %\n",
      "\n",
      "maximum percentage of observing unwanted '000' is 36.1\n"
     ]
    }
   ],
   "source": [
    "#\n",
    "# your solution is here\n",
    "#\n",
    "from qiskit import QuantumRegister, ClassicalRegister, QuantumCircuit, execute, Aer\n",
    "from math import pi, sin, cos\n",
    "from random import randrange\n",
    "\n",
    "# the angle of rotation\n",
    "k1 = randrange(1,31)\n",
    "theta1 = k1*2*pi/31\n",
    "k2 = randrange(1,31)\n",
    "theta2 = k2*2*pi/31\n",
    "k3 = randrange(1,31)\n",
    "theta3 = k3*2*pi/31\n",
    "\n",
    "max_percentange = 0\n",
    "    \n",
    "# for each stream of length from 1 to 31\n",
    "for i in range(1,32):    \n",
    "    # initialize the circuit\n",
    "    qreg = QuantumRegister(3) \n",
    "    creg = ClassicalRegister(3) \n",
    "    circuit = QuantumCircuit(qreg,creg)\n",
    "    \n",
    "    # Hadamard operators before reading the stream\n",
    "    for m in range(3):\n",
    "        circuit.h(qreg[m])   \n",
    "        \n",
    "    # read the stream of length i\n",
    "    print(\"stream of length\",i,\"is being read\")\n",
    "    for j in range(i):    \n",
    "        # controlled rotation when the third qubit is |1>\n",
    "        circuit.cu3(2*theta1,0,0,qreg[2],qreg[0])\n",
    "\n",
    "        # controlled rotation when the second qubit is |1>\n",
    "        circuit.cu3(2*theta2,0,0,qreg[1],qreg[0])\n",
    "\n",
    "        # controlled rotation when the third qubit is |0>\n",
    "        circuit.x(qreg[2])\n",
    "        circuit.cu3(2*theta3,0,0,qreg[2],qreg[0])\n",
    "        circuit.x(qreg[2])\n",
    "        \n",
    "    # Hadamard operators after reading the stream\n",
    "    for m in range(3):\n",
    "        circuit.h(qreg[m])  \n",
    "    # we measure after reading the whole stream\n",
    "    circuit.measure(qreg,creg)\n",
    "    # execute the circuit N times\n",
    "    N = 1000\n",
    "    job = execute(circuit,Aer.get_backend('qasm_simulator'),shots=N)\n",
    "    counts = job.result().get_counts(circuit)\n",
    "    print(counts)\n",
    "    if '000' in counts.keys():\n",
    "        c = counts['000']\n",
    "    else:\n",
    "        c = 0\n",
    "    print('000 is observed',c,'times out of',N)\n",
    "    percentange = round(c/N*100,1)\n",
    "    if max_percentange < percentange and i != 31: max_percentange = percentange\n",
    "    print(\"the ration of 000 is \",percentange,\"%\")\n",
    "    print()  \n",
    "print(\"maximum percentage of observing unwanted '000' is\",max_percentange)\n"
   ]
  },
  {
   "cell_type": "markdown",
   "metadata": {},
   "source": [
    "<a href=\"B76_Multiple_Rotations_Solutions.ipynb#task4\">click for our solution</a>"
   ]
  },
  {
   "cell_type": "markdown",
   "metadata": {},
   "source": [
    "<h3>Task 5 (optional)</h3>\n",
    "\n",
    "Based on Task 4, design your own solution for problem $ \\sf MOD_{91} $ by using four qubits.\n",
    "\n",
    "Remark that up to 8 different rotations can be implemented by using four qubits."
   ]
  },
  {
   "cell_type": "code",
   "execution_count": null,
   "metadata": {},
   "outputs": [],
   "source": [
    "#\n",
    "# your solution is here\n",
    "#\n"
   ]
  },
  {
   "cell_type": "markdown",
   "metadata": {},
   "source": [
    "<h3> Main construction </h3>"
   ]
  },
  {
   "cell_type": "markdown",
   "metadata": {},
   "source": [
    "To implement an operator controlled by two qubits, we use an auxiliary qubit.\n",
    "\n",
    "Depending on the desired values of two qubits, the auxiliary qubit is flipped to $ \\ket{1} $ and then the operation is implemented controlled by the auxiliary qubit.\n",
    "\n",
    "Here we describe the case when the control qubits are in state $ \\ket{01} $. \n",
    "\n",
    "We also draw the circuit. "
   ]
  },
  {
   "cell_type": "code",
   "execution_count": 5,
   "metadata": {},
   "outputs": [
    {
     "data": {
      "text/html": [
       "<pre style=\"word-wrap: normal;white-space: pre;line-height: 15px;\">                    ┌────────────────┐          \n",
       "q33_0: |0>──────────┤ U3(1.0472,0,0) ├──────────\n",
       "                    └───────┬────────┘          \n",
       "q33_1: |0>───────■──────────┼───────────■───────\n",
       "          ┌───┐  │          │           │  ┌───┐\n",
       "q33_2: |0>┤ X ├──■──────────┼───────────■──┤ X ├\n",
       "          └───┘┌─┴─┐        │         ┌─┴─┐└───┘\n",
       "q33_3: |0>─────┤ X ├────────■─────────┤ X ├─────\n",
       "               └───┘                  └───┘     </pre>"
      ],
      "text/plain": [
       "<qiskit.tools.visualization._text.TextDrawing at 0x12d8bee48>"
      ]
     },
     "execution_count": 5,
     "metadata": {},
     "output_type": "execute_result"
    }
   ],
   "source": [
    "from qiskit import QuantumRegister, ClassicalRegister, QuantumCircuit, execute, Aer\n",
    "from math import pi\n",
    "\n",
    "# initialize the circuit\n",
    "qreg = QuantumRegister(4)  \n",
    "circuit = QuantumCircuit(qreg)\n",
    "\n",
    "# we use the fourth qubit as the auxiliary\n",
    "\n",
    "# apply a rotation to the first qubit when the third and second qubits are in states |0> and |1>\n",
    "# change the state of the third qubit to |1>\n",
    "circuit.x(qreg[2])\n",
    "# if both the third and second qubits are in states |1>, the state of auxiliary qubit is changed to |1> \n",
    "circuit.ccx(qreg[2],qreg[1],qreg[3])\n",
    "# the rotation is applied to the first qubit if the state of auxiliary qubit is |1>\n",
    "circuit.cu3(2*pi/6,0,0,qreg[3],qreg[0])\n",
    "# reverse the effects\n",
    "circuit.ccx(qreg[2],qreg[1],qreg[3])\n",
    "circuit.x(qreg[2])\n",
    "\n",
    "circuit.draw()"
   ]
  },
  {
   "cell_type": "markdown",
   "metadata": {},
   "source": [
    "Based on this idea, different rotation operators are applied to the first qubit when the third and second qubits are in $ \\ket{00} $, $ \\ket{01} $, $ \\ket{10} $, and $ \\ket{11} $. \n",
    "\n",
    "We present how to construct $ R(\\pi/10,2\\pi/10,3\\pi/10,4\\pi/10) $. "
   ]
  },
  {
   "cell_type": "code",
   "execution_count": 6,
   "metadata": {},
   "outputs": [
    {
     "name": "stdout",
     "output_type": "stream",
     "text": [
      "sin(theta1) =  0.309\n",
      "sin(theta2) =  0.588\n",
      "sin(theta3) =  0.809\n",
      "sin(theta4) =  0.951\n",
      "\n",
      "  0.951 -0.309    0.0    0.0    0.0    0.0    0.0    0.0    0.0    0.0    0.0    0.0    0.0    0.0    0.0    0.0\n",
      "  0.309  0.951    0.0    0.0    0.0    0.0    0.0    0.0    0.0    0.0    0.0    0.0    0.0    0.0    0.0    0.0\n",
      "    0.0    0.0  0.809 -0.588    0.0    0.0    0.0    0.0    0.0    0.0    0.0    0.0    0.0    0.0    0.0    0.0\n",
      "    0.0    0.0  0.588  0.809    0.0    0.0    0.0    0.0    0.0    0.0    0.0    0.0    0.0    0.0    0.0    0.0\n",
      "    0.0    0.0    0.0    0.0  0.588 -0.809    0.0    0.0    0.0    0.0    0.0    0.0    0.0    0.0    0.0    0.0\n",
      "    0.0    0.0    0.0    0.0  0.809  0.588    0.0    0.0    0.0    0.0    0.0    0.0    0.0    0.0    0.0    0.0\n",
      "    0.0    0.0    0.0    0.0    0.0    0.0  0.309 -0.951    0.0    0.0    0.0    0.0    0.0    0.0    0.0    0.0\n",
      "    0.0    0.0    0.0    0.0    0.0    0.0  0.951  0.309    0.0    0.0    0.0    0.0    0.0    0.0    0.0    0.0\n",
      "    0.0    0.0    0.0    0.0    0.0    0.0    0.0    0.0 -0.951 -0.309    0.0    0.0    0.0    0.0    0.0    0.0\n",
      "    0.0    0.0    0.0    0.0    0.0    0.0    0.0    0.0  0.309 -0.951    0.0    0.0    0.0    0.0    0.0    0.0\n",
      "    0.0    0.0    0.0    0.0    0.0    0.0    0.0    0.0    0.0    0.0 -0.809 -0.588    0.0    0.0    0.0    0.0\n",
      "    0.0    0.0    0.0    0.0    0.0    0.0    0.0    0.0    0.0    0.0  0.588 -0.809    0.0    0.0    0.0    0.0\n",
      "    0.0    0.0    0.0    0.0    0.0    0.0    0.0    0.0    0.0    0.0    0.0    0.0 -0.588 -0.809    0.0    0.0\n",
      "    0.0    0.0    0.0    0.0    0.0    0.0    0.0    0.0    0.0    0.0    0.0    0.0  0.809 -0.588    0.0    0.0\n",
      "    0.0    0.0    0.0    0.0    0.0    0.0    0.0    0.0    0.0    0.0    0.0    0.0    0.0    0.0 -0.309 -0.951\n",
      "    0.0    0.0    0.0    0.0    0.0    0.0    0.0    0.0    0.0    0.0    0.0    0.0    0.0    0.0  0.951 -0.309\n"
     ]
    }
   ],
   "source": [
    "from qiskit import QuantumRegister, ClassicalRegister, QuantumCircuit, execute, Aer\n",
    "from math import pi,sin\n",
    "\n",
    "# the angles of rotations\n",
    "theta1 = pi/10\n",
    "theta2 = 2*pi/10\n",
    "theta3 = 3*pi/10\n",
    "theta4 = 4*pi/10\n",
    "\n",
    "# for verification, print sin(theta)'s\n",
    "print(\"sin(theta1) = \",round(sin(theta1),3))\n",
    "print(\"sin(theta2) = \",round(sin(theta2),3))\n",
    "print(\"sin(theta3) = \",round(sin(theta3),3))\n",
    "print(\"sin(theta4) = \",round(sin(theta4),3))\n",
    "print()\n",
    "\n",
    "qreg =  QuantumRegister(4) \n",
    "circuit = QuantumCircuit(qreg)\n",
    "\n",
    "# the third qubit is in |0>\n",
    "# the second qubit is in |0>\n",
    "circuit.x(qreg[2])\n",
    "circuit.x(qreg[1])\n",
    "circuit.ccx(qreg[2],qreg[1],qreg[3])\n",
    "circuit.cu3(2*theta1,0,0,qreg[3],qreg[0])\n",
    "# reverse the effects\n",
    "circuit.ccx(qreg[2],qreg[1],qreg[3])\n",
    "circuit.x(qreg[1])\n",
    "circuit.x(qreg[2])\n",
    "\n",
    "\n",
    "# the third qubit is in |0>\n",
    "# the second qubit is in |1>\n",
    "circuit.x(qreg[2])\n",
    "circuit.ccx(qreg[2],qreg[1],qreg[3])\n",
    "circuit.cu3(2*theta2,0,0,qreg[3],qreg[0])\n",
    "# reverse the effects\n",
    "circuit.ccx(qreg[2],qreg[1],qreg[3])\n",
    "circuit.x(qreg[2])\n",
    "\n",
    "# the third qubit is in |1>\n",
    "# the second qubit is in |0>\n",
    "circuit.x(qreg[1])\n",
    "circuit.ccx(qreg[2],qreg[1],qreg[3])\n",
    "circuit.cu3(2*theta3,0,0,qreg[3],qreg[0])\n",
    "# reverse the effects\n",
    "circuit.ccx(qreg[2],qreg[1],qreg[3])\n",
    "circuit.x(qreg[1])\n",
    "\n",
    "# the third qubit is in |1>\n",
    "# the second qubit is in |1>\n",
    "circuit.ccx(qreg[2],qreg[1],qreg[3])\n",
    "circuit.cu3(2*theta4,0,0,qreg[3],qreg[0])\n",
    "# reverse the effects\n",
    "circuit.ccx(qreg[2],qreg[1],qreg[3])\n",
    "\n",
    "# read the corresponding unitary matrix\n",
    "job = execute(circuit,Aer.get_backend('unitary_simulator'))\n",
    "unitary_matrix=job.result().get_unitary(circuit,decimals=3)\n",
    "for i in range(len(unitary_matrix)):\n",
    "    s=\"\"\n",
    "    for j in range(len(unitary_matrix)):\n",
    "        val = str(unitary_matrix[i][j].real)\n",
    "        while(len(val)<7): val  = \" \"+val\n",
    "        s = s + val\n",
    "    print(s)"
   ]
  },
  {
   "cell_type": "markdown",
   "metadata": {},
   "source": [
    "<b>Remarks:</b> \n",
    "\n",
    "The constructed matrix is bigger than our main matrix because of the auxiliary qubit.\n",
    "\n",
    "Our main matrix appears at the top-left quarter of the constructed matrix.\n",
    "\n",
    "The rest of the constructed matrix does not affect our computation unless the auxiliary qubit is set to state $ \\ket{1} $ (except the auxiliary operations)."
   ]
  },
  {
   "cell_type": "markdown",
   "metadata": {},
   "source": [
    "<h3>Task 6 (optional)</h3>\n",
    "\n",
    "Assume that $\\theta_1=\\frac{\\pi}{11}$, $\\theta_2=2\\frac{\\pi}{11}$, $\\theta_3=4\\frac{\\pi}{11}$, and $\\theta_4=8\\frac{\\pi}{11}$ are the given angles in the above construction.\n",
    "\n",
    "Calculate (by hand or in your mind) the angles of the rotations in the bottom-left quarter of the constructed matrix by following the construction steps."
   ]
  },
  {
   "cell_type": "markdown",
   "metadata": {},
   "source": [
    "<h3>Task 7</h3>\n",
    "\n",
    "Create a circuit for solving problem $ \\sf MOD_{61} $ by using the above implementation.\n",
    "\n",
    "Pick $ \\theta_1 $, $ \\theta_2 $, $ \\theta_3 $, and $ \\theta_4 $ randomly.\n",
    "\n",
    "At the beginning of the stream and after reading the stream, apply Hadamard operators to each qubit.\n",
    "\n",
    "Execute your quantum program on the streams of lengths 1, 11, 21, 31, 41, 51, and 61."
   ]
  },
  {
   "cell_type": "code",
   "execution_count": 7,
   "metadata": {},
   "outputs": [
    {
     "name": "stdout",
     "output_type": "stream",
     "text": [
      "stream of length 1 is being read\n",
      "{'0001': 163, '0010': 14, '0110': 334, '0100': 91, '0111': 36, '0101': 94, '0000': 30, '0011': 238}\n",
      "0000 is observed 30 times out of 1000\n",
      "the ration of 0000 is  3.0 %\n",
      "\n",
      "stream of length 11 is being read\n",
      "{'0001': 790, '0010': 7, '0110': 1, '0100': 25, '0111': 2, '0101': 9, '0000': 163, '0011': 3}\n",
      "0000 is observed 163 times out of 1000\n",
      "the ration of 0000 is  16.3 %\n",
      "\n",
      "stream of length 21 is being read\n",
      "{'0001': 93, '0010': 298, '0110': 6, '0100': 59, '0111': 120, '0101': 233, '0000': 14, '0011': 177}\n",
      "0000 is observed 14 times out of 1000\n",
      "the ration of 0000 is  1.4 %\n",
      "\n",
      "stream of length 31 is being read\n",
      "{'0001': 235, '0010': 543, '0110': 6, '0100': 32, '0111': 120, '0101': 51, '0000': 4, '0011': 9}\n",
      "0000 is observed 4 times out of 1000\n",
      "the ration of 0000 is  0.4 %\n",
      "\n",
      "stream of length 41 is being read\n",
      "{'0001': 43, '0010': 148, '0111': 11, '0110': 68, '0100': 72, '0000': 277, '0011': 381}\n",
      "0000 is observed 277 times out of 1000\n",
      "the ration of 0000 is  27.7 %\n",
      "\n",
      "stream of length 51 is being read\n",
      "{'0111': 101, '0010': 366, '0101': 70, '0110': 134, '0100': 129, '0000': 161, '0011': 39}\n",
      "0000 is observed 161 times out of 1000\n",
      "the ration of 0000 is  16.1 %\n",
      "\n",
      "stream of length 61 is being read\n",
      "{'0000': 1000}\n",
      "0000 is observed 1000 times out of 1000\n",
      "the ration of 0000 is  100.0 %\n",
      "\n",
      "maximum percentage of observing unwanted '0000' is 27.7\n"
     ]
    }
   ],
   "source": [
    "#\n",
    "# your solution is here\n",
    "#\n",
    "from qiskit import QuantumRegister, ClassicalRegister, QuantumCircuit, execute, Aer\n",
    "from math import pi,sin\n",
    "\n",
    "# the angle of rotation\n",
    "k1 = randrange(1,61)\n",
    "theta1 = k1*2*pi/61\n",
    "k2 = randrange(1,61)\n",
    "theta2 = k2*2*pi/61\n",
    "k3 = randrange(1,61)\n",
    "theta3 = k3*2*pi/61\n",
    "k4 = randrange(1,61)\n",
    "theta4 = k4*2*pi/61\n",
    "\n",
    "max_percentange = 0\n",
    "\n",
    "# for each stream of length of 1, 11, 21, 31, 41, 51, and 61\n",
    "for i in [1,11,21,31,41,51,61]: \n",
    "#for i in range(1,62): \n",
    "    # initialize the circuit\n",
    "    qreg =  QuantumRegister(4) \n",
    "    creg = ClassicalRegister(4)\n",
    "    circuit = QuantumCircuit(qreg,creg)\n",
    "\n",
    "    # Hadamard operators before reading the stream\n",
    "    for m in range(3):\n",
    "        circuit.h(qreg[m])   \n",
    "        \n",
    "    # read the stream of length i\n",
    "    print(\"stream of length\",i,\"is being read\")\n",
    "    for j in range(i):         \n",
    "        # the third qubit is in |0>\n",
    "        # the second qubit is in |0>\n",
    "        circuit.x(qreg[2])\n",
    "        circuit.x(qreg[1])\n",
    "        circuit.ccx(qreg[2],qreg[1],qreg[3])\n",
    "        circuit.cu3(2*theta1,0,0,qreg[3],qreg[0])\n",
    "        # reverse the effects\n",
    "        circuit.ccx(qreg[2],qreg[1],qreg[3])\n",
    "        circuit.x(qreg[1])\n",
    "        circuit.x(qreg[2])\n",
    "\n",
    "\n",
    "        # the third qubit is in |0>\n",
    "        # the second qubit is in |1>\n",
    "        circuit.x(qreg[2])\n",
    "        circuit.ccx(qreg[2],qreg[1],qreg[3])\n",
    "        circuit.cu3(2*theta2,0,0,qreg[3],qreg[0])\n",
    "        # reverse the effects\n",
    "        circuit.ccx(qreg[2],qreg[1],qreg[3])\n",
    "        circuit.x(qreg[2])\n",
    "\n",
    "        # the third qubit is in |1>\n",
    "        # the second qubit is in |0>\n",
    "        circuit.x(qreg[1])\n",
    "        circuit.ccx(qreg[2],qreg[1],qreg[3])\n",
    "        circuit.cu3(2*theta3,0,0,qreg[3],qreg[0])\n",
    "        # reverse the effects\n",
    "        circuit.ccx(qreg[2],qreg[1],qreg[3])\n",
    "        circuit.x(qreg[1])\n",
    "\n",
    "        # the third qubit is in |1>\n",
    "        # the second qubit is in |1>\n",
    "        circuit.ccx(qreg[2],qreg[1],qreg[3])\n",
    "        circuit.cu3(2*theta4,0,0,qreg[3],qreg[0])\n",
    "        # reverse the effects\n",
    "        circuit.ccx(qreg[2],qreg[1],qreg[3])\n",
    "        \n",
    "    # Hadamard operators after reading the stream\n",
    "    for m in range(3):\n",
    "        circuit.h(qreg[m])  \n",
    "    # we measure after reading the whole stream\n",
    "    circuit.measure(qreg,creg)\n",
    "    # execute the circuit N times\n",
    "    N = 1000\n",
    "    job = execute(circuit,Aer.get_backend('qasm_simulator'),shots=N)\n",
    "    counts = job.result().get_counts(circuit)\n",
    "    print(counts)\n",
    "    if '0000' in counts.keys():\n",
    "        c = counts['0000']\n",
    "    else:\n",
    "        c = 0\n",
    "    print('0000 is observed',c,'times out of',N)\n",
    "    percentange = round(c/N*100,1)\n",
    "    if max_percentange < percentange and i != 61: max_percentange = percentange\n",
    "    print(\"the ration of 0000 is \",percentange,\"%\")\n",
    "    print()  \n",
    "print(\"maximum percentage of observing unwanted '0000' is\",max_percentange)"
   ]
  },
  {
   "cell_type": "markdown",
   "metadata": {},
   "source": [
    "<a href=\"B76_Multiple_Rotations_Solutions.ipynb#task7\">click for our solution</a>"
   ]
  },
  {
   "cell_type": "markdown",
   "metadata": {},
   "source": [
    "<h3>Task 8</h3>\n",
    "\n",
    "How many qubits we use to implement the main construction having 16 rotations in parallel?\n",
    "\n",
    "Please specify the number of control qubits and auxiliary qubits."
   ]
  },
  {
   "cell_type": "markdown",
   "metadata": {},
   "source": [
    "<a href=\"B76_Multiple_Rotations_Solutions.ipynb#task8\">click for our solution</a>"
   ]
  },
  {
   "cell_type": "markdown",
   "metadata": {},
   "source": [
    "### Answer of Question 8\n",
    "\n",
    "For 16 rotations, we use 4 control qubits and 1 target qubit.\n",
    "\n",
    "For each pair of control qubits, we use 1 auxiliray qubit. \n",
    "\n",
    "For 4 control qubits, we use two auxiliary qubits. \n",
    "\n",
    "Then, we use one more auxiliary qubit controlled by these two auxiliary qubits.\n",
    "\n",
    "So, we need 4 control + 1 target + 3 auxiliary = 8 total qubits."
   ]
  },
  {
   "cell_type": "code",
   "execution_count": null,
   "metadata": {},
   "outputs": [],
   "source": []
  }
 ],
 "metadata": {
  "kernelspec": {
   "display_name": "Python 3",
   "language": "python",
   "name": "python3"
  },
  "language_info": {
   "codemirror_mode": {
    "name": "ipython",
    "version": 3
   },
   "file_extension": ".py",
   "mimetype": "text/x-python",
   "name": "python",
   "nbconvert_exporter": "python",
   "pygments_lexer": "ipython3",
   "version": "3.7.3"
  }
 },
 "nbformat": 4,
 "nbformat_minor": 2
}
