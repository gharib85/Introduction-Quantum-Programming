{
 "cells": [
  {
   "cell_type": "markdown",
   "metadata": {},
   "source": [
    "<table>\n",
    "    <tr><td align=\"right\" style=\"background-color:#ffffff;\">\n",
    "        <img src=\"../images/logo.jpg\" width=\"20%\" align=\"right\">\n",
    "    </td></tr>\n",
    "    <tr><td align=\"right\" style=\"color:#777777;background-color:#ffffff;font-size:12px;\">\n",
    "        Abuzer Yakaryilmaz | April 27, 2019 (updated) \n",
    "    </td></tr>\n",
    "    <tr><td align=\"right\" style=\"color:#bbbbbb;background-color:#ffffff;font-size:11px;font-style:italic;\">\n",
    "        This cell contains some macros. If there is a problem with displaying mathematical formulas, please run this cell to load these macros.\n",
    "    </td></tr>\n",
    "</table>\n",
    "$ \\newcommand{\\bra}[1]{\\langle #1|} $\n",
    "$ \\newcommand{\\ket}[1]{|#1\\rangle} $\n",
    "$ \\newcommand{\\braket}[2]{\\langle #1|#2\\rangle} $\n",
    "$ \\newcommand{\\dot}[2]{ #1 \\cdot #2} $\n",
    "$ \\newcommand{\\biginner}[2]{\\left\\langle #1,#2\\right\\rangle} $\n",
    "$ \\newcommand{\\mymatrix}[2]{\\left( \\begin{array}{#1} #2\\end{array} \\right)} $\n",
    "$ \\newcommand{\\myvector}[1]{\\mymatrix{c}{#1}} $\n",
    "$ \\newcommand{\\myrvector}[1]{\\mymatrix{r}{#1}} $\n",
    "$ \\newcommand{\\mypar}[1]{\\left( #1 \\right)} $\n",
    "$ \\newcommand{\\mybigpar}[1]{ \\Big( #1 \\Big)} $\n",
    "$ \\newcommand{\\sqrttwo}{\\frac{1}{\\sqrt{2}}} $\n",
    "$ \\newcommand{\\dsqrttwo}{\\dfrac{1}{\\sqrt{2}}} $\n",
    "$ \\newcommand{\\onehalf}{\\frac{1}{2}} $\n",
    "$ \\newcommand{\\donehalf}{\\dfrac{1}{2}} $\n",
    "$ \\newcommand{\\hadamard}{ \\mymatrix{rr}{ \\sqrttwo & \\sqrttwo \\\\ \\sqrttwo & -\\sqrttwo }} $\n",
    "$ \\newcommand{\\vzero}{\\myvector{1\\\\0}} $\n",
    "$ \\newcommand{\\vone}{\\myvector{0\\\\1}} $\n",
    "$ \\newcommand{\\vhadamardzero}{\\myvector{ \\sqrttwo \\\\  \\sqrttwo } } $\n",
    "$ \\newcommand{\\vhadamardone}{ \\myrvector{ \\sqrttwo \\\\ -\\sqrttwo } } $\n",
    "$ \\newcommand{\\myarray}[2]{ \\begin{array}{#1}#2\\end{array}} $\n",
    "$ \\newcommand{\\X}{ \\mymatrix{cc}{0 & 1 \\\\ 1 & 0}  } $\n",
    "$ \\newcommand{\\Z}{ \\mymatrix{rr}{1 & 0 \\\\ 0 & -1}  } $\n",
    "$ \\newcommand{\\Htwo}{ \\mymatrix{rrrr}{ \\frac{1}{2} & \\frac{1}{2} & \\frac{1}{2} & \\frac{1}{2} \\\\ \\frac{1}{2} & -\\frac{1}{2} & \\frac{1}{2} & -\\frac{1}{2} \\\\ \\frac{1}{2} & \\frac{1}{2} & -\\frac{1}{2} & -\\frac{1}{2} \\\\ \\frac{1}{2} & -\\frac{1}{2} & -\\frac{1}{2} & \\frac{1}{2} } } $\n",
    "$ \\newcommand{\\CNOT}{ \\mymatrix{cccc}{1 & 0 & 0 & 0 \\\\ 0 & 1 & 0 & 0 \\\\ 0 & 0 & 0 & 1 \\\\ 0 & 0 & 1 & 0} } $\n",
    "$ \\newcommand{\\norm}[1]{ \\left\\lVert #1 \\right\\rVert } $"
   ]
  },
  {
   "cell_type": "markdown",
   "metadata": {},
   "source": [
    "<h2> The Angle Between Two Quantum States </h2>"
   ]
  },
  {
   "cell_type": "markdown",
   "metadata": {},
   "source": [
    "<table align=\"left\"><tr><td><i>\n",
    "We use certain tools from python library \"<b>matplotlib.pyplot</b>\" for drawing. \n",
    "\n",
    "Check the notebook \"<a href=\"../python/Python06_Drawing.ipynb\" target=\"_blank\">Python: Drawing</a>\" for the list of these tools.\n",
    "</i></td></tr></table>"
   ]
  },
  {
   "cell_type": "markdown",
   "metadata": {},
   "source": [
    "We use dot (scalar) product.\n",
    "\n",
    "Let $u$ and $v$ be two unit vectors (i.e., quantum states).\n",
    "\n",
    "If the angle between both unit vectors is $ \\alpha $, then we have $ \\cos(\\alpha) = u \\cdot v $.\n",
    "\n",
    "Thus, $ \\alpha = \\arccos(uv) = \\cos^{-1}(uv) $."
   ]
  },
  {
   "cell_type": "markdown",
   "metadata": {},
   "source": [
    "<h4> The angle of a quantum state with itself </h4>"
   ]
  },
  {
   "cell_type": "markdown",
   "metadata": {},
   "source": [
    "Remember that, for a given vector $ v $,  $ || v || = \\sqrt{v \\cdot v} $.\n",
    "\n",
    "A unit vector is a vector with length 1.\n",
    "\n",
    "Thus, if $ v $ is a unit vector, then $ v \\cdot v = 1 $.\n",
    "\n",
    "Moreover, $ \\arccos(1) = \\cos^{-1}(1) = 0 $ and so the angle between $ v $ and $ v $ is zero."
   ]
  },
  {
   "cell_type": "markdown",
   "metadata": {},
   "source": [
    "<h4> The angle between two orthogonal quantum states </h4>"
   ]
  },
  {
   "cell_type": "markdown",
   "metadata": {},
   "source": [
    "Two vectors are prependicular or orthogonal if the angle between them is 90 degrees ($\\frac{\\pi}{2}$ radians).\n",
    "\n",
    "Then, their inner product is zero, and vice versa."
   ]
  },
  {
   "cell_type": "code",
   "execution_count": 1,
   "metadata": {},
   "outputs": [
    {
     "name": "stdout",
     "output_type": "stream",
     "text": [
      "cosine of 90 degrees is zero: 6.123233995736766e-17\n",
      "the degree of two unit vectors having the dot product of 0 is 90.0 degrees\n"
     ]
    }
   ],
   "source": [
    "from math import cos, pi, acos\n",
    "\n",
    "print(\"cosine of 90 degrees is zero:\",cos(pi/2))\n",
    "\n",
    "# find the degree of two unit vectors having the dot product of 0.\n",
    "radian_degree = acos(0)\n",
    "degree = 360*radian_degree/(2*pi)\n",
    "print(\"the degree of two unit vectors having the dot product of 0 is\",degree,\"degrees\")"
   ]
  },
  {
   "cell_type": "markdown",
   "metadata": {},
   "source": [
    "<h3> Task 1 </h3>\n",
    "\n",
    "In two dimensional space, for any vector, there are two orthogonal vectors.\n",
    "\n",
    "Find both orthogonal quantum states for each of the following given quantum states\n",
    "\n",
    "$$ \\left\\{ \n",
    "    \\ket{v_0} = \\myrvector{\\frac{3}{5} \\\\ \\frac{4}{5}},  \n",
    "    \\ket{v_1} = \\myrvector{\\frac{3}{5} \\\\ -\\frac{4}{5}},\n",
    "    \\ket{v_2} = \\myrvector{-\\frac{5}{13} \\\\ \\frac{12}{13}},  \n",
    "    \\ket{v_3} = \\myrvector{-\\frac{1}{\\sqrt{2}} \\\\ -\\frac{1}{\\sqrt{2}}} \n",
    "   \\right\\}.\n",
    "$$\n",
    "\n",
    "Visually verify each case."
   ]
  },
  {
   "cell_type": "code",
   "execution_count": 11,
   "metadata": {},
   "outputs": [
    {
     "data": {
      "image/png": "[encoded data removed]",
      "text/plain": [
       "<Figure size 360x360 with 1 Axes>"
      ]
     },
     "metadata": {
      "needs_background": "light"
     },
     "output_type": "display_data"
    }
   ],
   "source": [
    "# include our predefined functions\n",
    "%run qlatvia.py\n",
    "\n",
    "# draw the axes\n",
    "draw_qubit()\n",
    "\n",
    "#\n",
    "# your solution is here\n",
    "#\n",
    "draw_quantum_state(3/5,4/5,\"main\")\n",
    "draw_quantum_state(-4/5,3/5,\"ort1\")\n",
    "draw_quantum_state(4/5,-3/5,\"ort2\")"
   ]
  },
  {
   "cell_type": "code",
   "execution_count": 12,
   "metadata": {},
   "outputs": [
    {
     "data": {
      "image/png": "[encoded data removed]",
      "text/plain": [
       "<Figure size 360x360 with 1 Axes>"
      ]
     },
     "metadata": {
      "needs_background": "light"
     },
     "output_type": "display_data"
    }
   ],
   "source": [
    "draw_qubit()\n",
    "draw_quantum_state(3/5,-4/5,\"main\")\n",
    "draw_quantum_state(4/5,3/5,\"ort1\")"
   ]
  },
  {
   "cell_type": "code",
   "execution_count": null,
   "metadata": {},
   "outputs": [],
   "source": []
  },
  {
   "cell_type": "markdown",
   "metadata": {},
   "source": [
    "<a href=\"B56_Angle_Between_Two_Quantum_States_Solutions.ipynb#task1\">click for our solution</a>"
   ]
  },
  {
   "cell_type": "markdown",
   "metadata": {},
   "source": [
    "<h4> The angle between two arbitrary quantum states </h4>"
   ]
  },
  {
   "cell_type": "markdown",
   "metadata": {},
   "source": [
    "Let $ \\ket{u} $ and $ \\ket{v} $ be two arbitrary quantum states on unit circles.\n",
    "\n",
    "We can find the angle between them in different ways. \n",
    "\n",
    "One method is to find each angle separately, to subtract from each other, and then take the absolute value.\n",
    "\n",
    "Another method is to calculate their dot product, and then to find the angle in between by using inverse cosine function.\n",
    "\n",
    "<i> Note that: The second method always gives the interior angle but the first method can also give the exterior angle.</i>"
   ]
  },
  {
   "cell_type": "markdown",
   "metadata": {},
   "source": [
    "<h3> Task 2 </h3>\n",
    "\n",
    "Randomly create two quantum states, find the angles in between by using both of the above methods, and then compare their results.\n",
    "\n",
    "<table align=\"left\"><tr><td><i>\n",
    "You may use your code written for <a href=\"B54_Random_Quantum_States.ipynb#task1\">a task given in notebook \"Random Quantum States\"</a>.\n",
    "</i></td></tr></table><br><br>\n",
    "\n",
    "Draw both quantum states on the unit circle.\n",
    "\n",
    "Visually verify your results.\n",
    "\n",
    "Repeat this task for a few times."
   ]
  },
  {
   "cell_type": "code",
   "execution_count": 3,
   "metadata": {},
   "outputs": [],
   "source": [
    "# randomly create a 2-dimensional quantum state\n",
    "from math import cos, sin, pi\n",
    "from random import randrange\n",
    "def random_quantum_state2():\n",
    "    angle_degree = randrange(360)\n",
    "    angle_radian = 2*pi*angle_degree/360\n",
    "    return [cos(angle_radian),sin(angle_radian)]"
   ]
  },
  {
   "cell_type": "code",
   "execution_count": 4,
   "metadata": {},
   "outputs": [],
   "source": [
    "# finding the angle of a 2-dimensional quantum state\n",
    "from math import acos, pi\n",
    "def angle_quantum_state(x,y):\n",
    "    angle_radian = acos(x) # radian of the angle with state |0>\n",
    "    angle_degree = 360*angle_radian/(2*pi) # degree of the angle with state |0>\n",
    "    # if the second amplitude is negative, \n",
    "    #     then angle is (-angle_degree)\n",
    "    #     or equivalently 360 + (-angle_degree)\n",
    "    if y<0: angle_degree = 360-angle_degree # degree of the angle\n",
    "    # else degree of the angle is the same as degree of the angle with state |0>\n",
    "    return angle_degree"
   ]
  },
  {
   "cell_type": "code",
   "execution_count": 5,
   "metadata": {},
   "outputs": [
    {
     "name": "stdout",
     "output_type": "stream",
     "text": [
      "the angle of |u> is 174.26082952273322\n",
      "the angle of |c> is 196.42994018944452\n",
      "their dot prouct is 0.9260741519877501\n",
      "the angle in between is calculated as 22.169110666711305 and 22.169110666711337\n"
     ]
    },
    {
     "data": {
      "image/png": "[encoded data removed]",
      "text/plain": [
       "<Figure size 360x360 with 1 Axes>"
      ]
     },
     "metadata": {
      "needs_background": "light"
     },
     "output_type": "display_data"
    }
   ],
   "source": [
    "\n",
    "%run qlatvia.py\n",
    "\n",
    "draw_qubit()\n",
    "\n",
    "from math import acos, pi\n",
    "\n",
    "[x1,y1]=random_quantum_state() # randomly pick a quantum state\n",
    "first_angle = angle_quantum_state(x1,y1)\n",
    "print(\"the angle of |u> is\",first_angle)\n",
    "\n",
    "[x2,y2]=random_quantum_state() # randomly pick a quantum state\n",
    "second_angle = angle_quantum_state(x2,y2)\n",
    "print(\"the angle of |c> is\",second_angle)\n",
    "\n",
    "angle_between_1 = first_angle - second_angle\n",
    "if angle_between_1 < 0: angle_between_1 *= -1\n",
    "if angle_between_1 >180: angle_between_1 = 360 - angle_between_1\n",
    "\n",
    "dot_product = x1*x2+y1*y2\n",
    "print(\"their dot prouct is\",dot_product)\n",
    "\n",
    "angle_between_radian = acos(dot_product)\n",
    "angle_between_2 = 360 * angle_between_radian/(2*pi)\n",
    "\n",
    "print(\"the angle in between is calculated as\",angle_between_1,\"and\",angle_between_2)\n",
    "\n",
    "draw_quantum_state(x1,y1,\"|u>\") \n",
    "draw_quantum_state(x2,y2,\"|v>\")"
   ]
  },
  {
   "cell_type": "markdown",
   "metadata": {},
   "source": [
    "<a href=\"B56_Angle_Between_Two_Quantum_States_Solutions.ipynb#task2\">click for our solution</a>"
   ]
  },
  {
   "cell_type": "code",
   "execution_count": null,
   "metadata": {},
   "outputs": [],
   "source": []
  }
 ],
 "metadata": {
  "kernelspec": {
   "display_name": "Python 3",
   "language": "python",
   "name": "python3"
  },
  "language_info": {
   "codemirror_mode": {
    "name": "ipython",
    "version": 3
   },
   "file_extension": ".py",
   "mimetype": "text/x-python",
   "name": "python",
   "nbconvert_exporter": "python",
   "pygments_lexer": "ipython3",
   "version": "3.7.3"
  }
 },
 "nbformat": 4,
 "nbformat_minor": 2
}
