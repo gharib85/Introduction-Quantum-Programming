{
 "cells": [
  {
   "cell_type": "markdown",
   "metadata": {},
   "source": [
    "<table>\n",
    "    <tr><td align=\"right\" style=\"background-color:#ffffff;\">\n",
    "        <img src=\"../images/logo.jpg\" width=\"20%\" align=\"right\">\n",
    "    </td></tr>\n",
    "    <tr><td align=\"right\" style=\"color:#777777;background-color:#ffffff;font-size:12px;\">\n",
    "        Abuzer Yakaryilmaz | April 27, 2019 (updated) \n",
    "    </td></tr>\n",
    "    <tr><td align=\"right\" style=\"color:#bbbbbb;background-color:#ffffff;font-size:11px;font-style:italic;\">\n",
    "        This cell contains some macros. If there is a problem with displaying mathematical formulas, please run this cell to load these macros.\n",
    "    </td></tr>\n",
    "</table>\n",
    "$ \\newcommand{\\bra}[1]{\\langle #1|} $\n",
    "$ \\newcommand{\\ket}[1]{|#1\\rangle} $\n",
    "$ \\newcommand{\\braket}[2]{\\langle #1|#2\\rangle} $\n",
    "$ \\newcommand{\\dot}[2]{ #1 \\cdot #2} $\n",
    "$ \\newcommand{\\biginner}[2]{\\left\\langle #1,#2\\right\\rangle} $\n",
    "$ \\newcommand{\\mymatrix}[2]{\\left( \\begin{array}{#1} #2\\end{array} \\right)} $\n",
    "$ \\newcommand{\\myvector}[1]{\\mymatrix{c}{#1}} $\n",
    "$ \\newcommand{\\myrvector}[1]{\\mymatrix{r}{#1}} $\n",
    "$ \\newcommand{\\mypar}[1]{\\left( #1 \\right)} $\n",
    "$ \\newcommand{\\mybigpar}[1]{ \\Big( #1 \\Big)} $\n",
    "$ \\newcommand{\\sqrttwo}{\\frac{1}{\\sqrt{2}}} $\n",
    "$ \\newcommand{\\dsqrttwo}{\\dfrac{1}{\\sqrt{2}}} $\n",
    "$ \\newcommand{\\onehalf}{\\frac{1}{2}} $\n",
    "$ \\newcommand{\\donehalf}{\\dfrac{1}{2}} $\n",
    "$ \\newcommand{\\hadamard}{ \\mymatrix{rr}{ \\sqrttwo & \\sqrttwo \\\\ \\sqrttwo & -\\sqrttwo }} $\n",
    "$ \\newcommand{\\vzero}{\\myvector{1\\\\0}} $\n",
    "$ \\newcommand{\\vone}{\\myvector{0\\\\1}} $\n",
    "$ \\newcommand{\\vhadamardzero}{\\myvector{ \\sqrttwo \\\\  \\sqrttwo } } $\n",
    "$ \\newcommand{\\vhadamardone}{ \\myrvector{ \\sqrttwo \\\\ -\\sqrttwo } } $\n",
    "$ \\newcommand{\\myarray}[2]{ \\begin{array}{#1}#2\\end{array}} $\n",
    "$ \\newcommand{\\X}{ \\mymatrix{cc}{0 & 1 \\\\ 1 & 0}  } $\n",
    "$ \\newcommand{\\Z}{ \\mymatrix{rr}{1 & 0 \\\\ 0 & -1}  } $\n",
    "$ \\newcommand{\\Htwo}{ \\mymatrix{rrrr}{ \\frac{1}{2} & \\frac{1}{2} & \\frac{1}{2} & \\frac{1}{2} \\\\ \\frac{1}{2} & -\\frac{1}{2} & \\frac{1}{2} & -\\frac{1}{2} \\\\ \\frac{1}{2} & \\frac{1}{2} & -\\frac{1}{2} & -\\frac{1}{2} \\\\ \\frac{1}{2} & -\\frac{1}{2} & -\\frac{1}{2} & \\frac{1}{2} } } $\n",
    "$ \\newcommand{\\CNOT}{ \\mymatrix{cccc}{1 & 0 & 0 & 0 \\\\ 0 & 1 & 0 & 0 \\\\ 0 & 0 & 0 & 1 \\\\ 0 & 0 & 1 & 0} } $\n",
    "$ \\newcommand{\\norm}[1]{ \\left\\lVert #1 \\right\\rVert } $"
   ]
  },
  {
   "cell_type": "markdown",
   "metadata": {},
   "source": [
    "<h2> <font color=\"blue\"> Solutions for </font>The Angle Between Two Quantum States</h2>"
   ]
  },
  {
   "cell_type": "markdown",
   "metadata": {},
   "source": [
    "<a id=\"task1\"></a>\n",
    "<h3> Task 1 </h3>\n",
    "\n",
    "In two dimensional space, for any vector, there are two orthogonal vectors.\n",
    "\n",
    "Find both orhogonal quantum states for each of the following given quantum states\n",
    "\n",
    "$$ \\left\\{ \n",
    "    \\ket{v_0} = \\myrvector{\\frac{3}{5} \\\\ \\frac{4}{5}},  \n",
    "    \\ket{v_1} = \\myrvector{\\frac{3}{5} \\\\ -\\frac{4}{5}},\n",
    "    \\ket{v_2} = \\myrvector{-\\frac{5}{13} \\\\ \\frac{12}{13}},  \n",
    "    \\ket{v_3} = \\myrvector{-\\frac{1}{\\sqrt{2}} \\\\ -\\frac{1}{\\sqrt{2}}},  \n",
    "   \\right\\} \n",
    "$$.\n",
    "\n",
    "Visually verify each case."
   ]
  },
  {
   "cell_type": "markdown",
   "metadata": {},
   "source": [
    "<h3>Solution</h3>"
   ]
  },
  {
   "cell_type": "markdown",
   "metadata": {},
   "source": [
    "The orhogonal quantum states for $ \\ket{v_0} = \\myrvector{\\frac{3}{5} \\\\ \\frac{4}{5}} $ are\n",
    "$ \\ket{v'_0} = \\myrvector{-\\frac{4}{5} \\\\ \\frac{3}{5}} \\mbox{ and } \n",
    "\\ket{v''_0} = \\myrvector{\\frac{4}{5} \\\\ -\\frac{3}{5}} $.\n",
    "\n",
    "We draw all three vecters below."
   ]
  },
  {
   "cell_type": "code",
   "execution_count": null,
   "metadata": {},
   "outputs": [],
   "source": [
    "# include our predefined functions\n",
    "%run qlatvia.py\n",
    "\n",
    "# draw the axes\n",
    "draw_qubit()\n",
    "\n",
    "#\n",
    "# your solution is here\n",
    "#\n",
    "\n",
    "draw_quantum_state(3/5,4/5,\"main\")\n",
    "draw_quantum_state(-4/5,3/5,\"ort1\")\n",
    "draw_quantum_state(4/5,-3/5,\"ort2\")"
   ]
  },
  {
   "cell_type": "markdown",
   "metadata": {},
   "source": [
    "The orhogonal quantum states for $ \\ket{v_1} = \\myrvector{\\frac{3}{5} \\\\ -\\frac{4}{5}} $ are\n",
    "$ \\ket{v'_1} = \\myrvector{-\\frac{4}{5} \\\\ -\\frac{3}{5}} \\mbox{ and } \n",
    "\\ket{v''_1} = \\myrvector{\\frac{4}{5} \\\\ \\frac{3}{5}} $.\n",
    "\n",
    "We draw all three vecters below."
   ]
  },
  {
   "cell_type": "code",
   "execution_count": null,
   "metadata": {},
   "outputs": [],
   "source": [
    "# include our predefined functions\n",
    "%run qlatvia.py\n",
    "\n",
    "# draw the axes\n",
    "draw_qubit()\n",
    "\n",
    "#\n",
    "# your solution is here\n",
    "#\n",
    "\n",
    "draw_quantum_state(3/5,-4/5,\"main\")\n",
    "draw_quantum_state(-4/5,-3/5,\"ort1\")\n",
    "draw_quantum_state(4/5,3/5,\"ort2\")"
   ]
  },
  {
   "cell_type": "markdown",
   "metadata": {},
   "source": [
    "The orhogonal quantum states for $ \\ket{v_2} = \\myrvector{-\\frac{5}{13} \\\\ \\frac{12}{13}} $ are\n",
    "$ \\ket{v'_2} = \\myrvector{-\\frac{12}{13} \\\\ -\\frac{5}{13}} \\mbox{ and } \n",
    "\\ket{v''_2} = \\myrvector{\\frac{12}{13} \\\\ \\frac{5}{13}} $.\n",
    "\n",
    "We draw all three vecters below."
   ]
  },
  {
   "cell_type": "code",
   "execution_count": null,
   "metadata": {},
   "outputs": [],
   "source": [
    "# include our predefined functions\n",
    "%run qlatvia.py\n",
    "\n",
    "# draw the axes\n",
    "draw_qubit()\n",
    "\n",
    "#\n",
    "# your solution is here\n",
    "#\n",
    "\n",
    "draw_quantum_state(-5/13,12/13,\"main\")\n",
    "draw_quantum_state(-12/13,-5/13,\"ort1\")\n",
    "draw_quantum_state(12/13,5/13,\"ort2\")"
   ]
  },
  {
   "cell_type": "markdown",
   "metadata": {},
   "source": [
    "The orhogonal quantum states for $ \\ket{v_3} = \\myrvector{-\\frac{1}{\\sqrt{2}} \\\\ -\\frac{1}{\\sqrt{2}}} $ are\n",
    "$ \\ket{v'_3} = \\myrvector{\\frac{1}{\\sqrt{2}} \\\\ -\\frac{1}{\\sqrt{2}}} \\mbox{ and } \n",
    "\\ket{v''_3} = \\myrvector{-\\frac{1}{\\sqrt{2}} \\\\ \\frac{1}{\\sqrt{2}}} $.\n",
    "\n",
    "We draw all three vecters below."
   ]
  },
  {
   "cell_type": "code",
   "execution_count": null,
   "metadata": {
    "scrolled": true
   },
   "outputs": [],
   "source": [
    "# include our predefined functions\n",
    "%run qlatvia.py\n",
    "\n",
    "# draw the axes\n",
    "draw_qubit()\n",
    "\n",
    "#\n",
    "# your solution is here\n",
    "#\n",
    "\n",
    "sqrttwo=2**0.5\n",
    "\n",
    "draw_quantum_state(-1/sqrttwo,-1/sqrttwo,\"main\")\n",
    "draw_quantum_state(1/sqrttwo,-1/sqrttwo,\"ort1\")\n",
    "draw_quantum_state(-1/sqrttwo,1/sqrttwo,\"ort2\")"
   ]
  },
  {
   "cell_type": "markdown",
   "metadata": {},
   "source": [
    "<a id=\"task2\"></a>\n",
    "<h3> Task 2 </h3>\n",
    "\n",
    "Randomly create two quantum states, find the angles in between by using both of the above methods, and then compare their results.\n",
    "\n",
    "<table align=\"left\"><tr><td><i>\n",
    "You may use your code written for <a href=\"B28_Quantum_State.ipynb#task2\">a task given in notebook \"Quantum States\"</a>.\n",
    "</i></td></tr></table><br><br>\n",
    "\n",
    "Draw both quantum states on the unit circle.\n",
    "\n",
    "Visually verify your results.\n",
    "\n",
    "Repeat this task for a few times."
   ]
  },
  {
   "cell_type": "markdown",
   "metadata": {},
   "source": [
    "<h3>Solution</h3>"
   ]
  },
  {
   "cell_type": "markdown",
   "metadata": {},
   "source": [
    "A function for randomly creating a 2-dimensional quantum state:"
   ]
  },
  {
   "cell_type": "code",
   "execution_count": null,
   "metadata": {},
   "outputs": [],
   "source": [
    "# randomly create a 2-dimensional quantum state\n",
    "from random import randrange\n",
    "def random_quantum_state():\n",
    "    first_entry = randrange(101)\n",
    "    first_entry = first_entry/100\n",
    "    first_entry = first_entry**0.5 \n",
    "    if randrange(2) == 0: \n",
    "        first_entry = -1 * first_entry\n",
    "    second_entry = 1 - (first_entry**2)\n",
    "    second_entry = second_entry**0.5\n",
    "    if randrange(2) == 0: \n",
    "        second_entry = -1 * second_entry\n",
    "    return [first_entry,second_entry]"
   ]
  },
  {
   "cell_type": "markdown",
   "metadata": {},
   "source": [
    "A function for finding the angle of a 2-dimensional quantum state:"
   ]
  },
  {
   "cell_type": "code",
   "execution_count": null,
   "metadata": {},
   "outputs": [],
   "source": [
    "# finding the angle of a 2-dimensional quantum state\n",
    "from math import acos, pi\n",
    "def angle_quantum_state(x,y):\n",
    "    angle_radian = acos(x) # radian of the angle with state |0>\n",
    "    angle_degree = 360*angle_radian/(2*pi) # degree of the angle with state |0>\n",
    "    # if the second amplitude is negative, \n",
    "    #     then angle is (-angle_degree)\n",
    "    #     or equivalently 360 + (-angle_degree)\n",
    "    if y<0: angle_degree = 360-angle_degree # degree of the angle\n",
    "    # else degree of the angle is the same as degree of the angle with state |0>\n",
    "    return angle_degree"
   ]
  },
  {
   "cell_type": "markdown",
   "metadata": {},
   "source": [
    "We randomly pick two quantum states, and then find the angles in between by using the proposed methods."
   ]
  },
  {
   "cell_type": "code",
   "execution_count": null,
   "metadata": {
    "scrolled": true
   },
   "outputs": [],
   "source": [
    "%run qlatvia.py\n",
    "\n",
    "draw_qubit()\n",
    "\n",
    "from math import acos, pi\n",
    "\n",
    "[x1,y1]=random_quantum_state() # randomly pick a quantum state\n",
    "first_angle = angle_quantum_state(x1,y1)\n",
    "print(\"the angle of |u> is\",first_angle)\n",
    "\n",
    "[x2,y2]=random_quantum_state() # randomly pick a quantum state\n",
    "second_angle = angle_quantum_state(x2,y2)\n",
    "print(\"the angle of |c> is\",second_angle)\n",
    "\n",
    "angle_between_1 = first_angle - second_angle\n",
    "if angle_between_1 < 0: angle_between_1 *= -1\n",
    "\n",
    "dot_product = x1*x2+y1*y2\n",
    "print(\"their dot prouct is\",dot_product)\n",
    "\n",
    "angle_between_radian = acos(dot_product)\n",
    "angle_between_2 = 360 * angle_between_radian/(2*pi)\n",
    "\n",
    "print(\"the angle in between is calculated as\",angle_between_1,\"and\",angle_between_2)\n",
    "\n",
    "draw_quantum_state(x1,y1,\"|u>\") \n",
    "draw_quantum_state(x2,y2,\"|v>\")"
   ]
  },
  {
   "cell_type": "markdown",
   "metadata": {},
   "source": [
    "We modify the first method to give only interior angle in between."
   ]
  },
  {
   "cell_type": "code",
   "execution_count": null,
   "metadata": {},
   "outputs": [],
   "source": [
    "%run qlatvia.py\n",
    "\n",
    "draw_qubit()\n",
    "\n",
    "from math import acos, pi\n",
    "\n",
    "[x1,y1]=random_quantum_state() # randomly pick a quantum state\n",
    "first_angle = angle_quantum_state(x1,y1)\n",
    "print(\"the angle of |u> is\",first_angle)\n",
    "\n",
    "[x2,y2]=random_quantum_state() # randomly pick a quantum state\n",
    "second_angle = angle_quantum_state(x2,y2)\n",
    "print(\"the angle of |c> is\",second_angle)\n",
    "\n",
    "angle_between_1 = first_angle - second_angle\n",
    "if angle_between_1 < 0: angle_between_1 *= -1\n",
    "if angle_between_1 >180: angle_between_1 = 360 - angle_between_1\n",
    "\n",
    "dot_product = x1*x2+y1*y2\n",
    "print(\"their dot prouct is\",dot_product)\n",
    "\n",
    "angle_between_radian = acos(dot_product)\n",
    "angle_between_2 = 360 * angle_between_radian/(2*pi)\n",
    "\n",
    "print(\"the angle in between is calculated as\",angle_between_1,\"and\",angle_between_2)\n",
    "\n",
    "draw_quantum_state(x1,y1,\"|u>\") \n",
    "draw_quantum_state(x2,y2,\"|v>\")"
   ]
  }
 ],
 "metadata": {
  "kernelspec": {
   "display_name": "Python 3",
   "language": "python",
   "name": "python3"
  },
  "language_info": {
   "codemirror_mode": {
    "name": "ipython",
    "version": 3
   },
   "file_extension": ".py",
   "mimetype": "text/x-python",
   "name": "python",
   "nbconvert_exporter": "python",
   "pygments_lexer": "ipython3",
   "version": "3.7.1"
  }
 },
 "nbformat": 4,
 "nbformat_minor": 2
}
