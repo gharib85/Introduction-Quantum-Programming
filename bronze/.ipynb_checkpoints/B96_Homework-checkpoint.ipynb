{
 "cells": [
  {
   "cell_type": "markdown",
   "metadata": {},
   "source": [
    "<div style=\"color:#777777;background-color:#ffffff;font-size:12px;text-align:right;\">\n",
    "\tprepared by Abuzer Yakaryilmaz (QuSoft@Riga) | December 09, 2018\n",
    "</div>\n",
    "<table><tr><td><i> I have some macros here. If there is a problem with displaying mathematical formulas, please run me to load these macros.</i></td></td></table>\n",
    "$ \\newcommand{\\bra}[1]{\\langle #1\\rvert} $\n",
    "$ \\newcommand{\\ket}[1]{\\lvert#1\\rangle} $\n",
    "$ \\newcommand{\\braket}[2]{\\langle #1\\lvert#2\\rangle} $\n",
    "$ \\newcommand{\\inner}[2]{\\langle #1,#2\\rangle} $\n",
    "$ \\newcommand{\\biginner}[2]{\\left\\langle #1,#2\\right\\rangle} $\n",
    "$ \\newcommand{\\mymatrix}[2]{\\left( \\begin{array}{#1} #2\\end{array} \\right)} $\n",
    "$ \\newcommand{\\myvector}[1]{\\mymatrix{c}{#1}} $\n",
    "$ \\newcommand{\\myrvector}[1]{\\mymatrix{r}{#1}} $\n",
    "$ \\newcommand{\\mypar}[1]{\\left( #1 \\right)} $\n",
    "$ \\newcommand{\\mybigpar}[1]{ \\Big( #1 \\Big)} $\n",
    "$ \\newcommand{\\sqrttwo}{\\frac{1}{\\sqrt{2}}} $\n",
    "$ \\newcommand{\\dsqrttwo}{\\dfrac{1}{\\sqrt{2}}} $\n",
    "$ \\newcommand{\\onehalf}{\\frac{1}{2}} $\n",
    "$ \\newcommand{\\donehalf}{\\dfrac{1}{2}} $\n",
    "$ \\newcommand{\\hadamard}{ \\mymatrix{rr}{ \\sqrttwo & \\sqrttwo \\\\ \\sqrttwo & -\\sqrttwo }} $\n",
    "$ \\newcommand{\\vzero}{\\myvector{1\\\\0}} $\n",
    "$ \\newcommand{\\vone}{\\myvector{0\\\\1}} $\n",
    "$ \\newcommand{\\vhadamardzero}{\\myvector{ \\sqrttwo \\\\  \\sqrttwo } } $\n",
    "$ \\newcommand{\\vhadamardone}{ \\myrvector{ \\sqrttwo \\\\ -\\sqrttwo } } $\n",
    "$ \\newcommand{\\myarray}[2]{ \\begin{array}{#1}#2\\end{array}} $\n",
    "$ \\newcommand{\\X}{ \\mymatrix{cc}{0 & 1 \\\\ 1 & 0}  } $\n",
    "$ \\newcommand{\\Z}{ \\mymatrix{rr}{1 & 0 \\\\ 0 & -1}  } $\n",
    "$ \\newcommand{\\Htwo}{ \\mymatrix{rrrr}{ \\frac{1}{2} & \\frac{1}{2} & \\frac{1}{2} & \\frac{1}{2} \\\\ \\frac{1}{2} & -\\frac{1}{2} & \\frac{1}{2} & -\\frac{1}{2} \\\\ \\frac{1}{2} & \\frac{1}{2} & -\\frac{1}{2} & -\\frac{1}{2} \\\\ \\frac{1}{2} & -\\frac{1}{2} & -\\frac{1}{2} & \\frac{1}{2} } } $\n",
    "$ \\newcommand{\\CNOT}{ \\mymatrix{cccc}{1 & 0 & 0 & 0 \\\\ 0 & 1 & 0 & 0 \\\\ 0 & 0 & 0 & 1 \\\\ 0 & 0 & 1 & 0} } $\n",
    "$ \\newcommand{\\norm}[1]{ \\left\\lVert #1 \\right\\rVert } $"
   ]
  },
  {
   "cell_type": "markdown",
   "metadata": {},
   "source": [
    "<h2> Homework (Rotations)</h2>"
   ]
  },
  {
   "cell_type": "markdown",
   "metadata": {},
   "source": [
    "<b>Deadline:</b> January 14, 2019\n",
    "\n",
    "Send your solutions to abuzer@lu.lv.\n",
    "\n",
    "Feel free to ask questions by e-mail.\n",
    "\n",
    "<hr>"
   ]
  },
  {
   "cell_type": "markdown",
   "metadata": {},
   "source": [
    "<h3> Decision problems on streaming inputs </h3>\n",
    "\n",
    "1. Suppose that you read a series of symbols from an alphabet $ \\Sigma $.\n",
    "    \n",
    "    For example, $ \\Sigma = \\{a,b\\} $, and your inputs can be $ aaabbbabababababab $ or $ aaaaaaa $ or $ bbbbbba $, etc.\n",
    "\n",
    "\n",
    "2. You may use one or more qubits for solving the given task. \n",
    "\n",
    "\n",
    "3. At the beginning, each qubit is set to $ \\ket{0} $.\n",
    "\n",
    "\n",
    "4. For each symbol, you fix certain operators and apply them to the quantum register whenever you read this symbol. \n",
    "\n",
    "    For example, for each $ a $, you may apply x-gate on each qubit; and, for each $ b $, you may apply z-gate and then h-gate on each qubit.\n",
    "\n",
    "\n",
    "5. After reading whole the input, you make a measurement. \n",
    "\n",
    "    You should make a decision on the given input. \n",
    "    \n",
    "    There will be two possible outcomes.\n",
    "\n",
    "    So, you divide all possible outcomes into two sets, and give your decisions accordingly."
   ]
  },
  {
   "cell_type": "markdown",
   "metadata": {},
   "source": [
    "<h3> Example 1 </h3>\n",
    "\n",
    "Let $ \\Sigma = \\{a\\} $.\n",
    "\n",
    "We decide whether the length of the given input is odd or even.\n",
    "\n",
    "We use a single qubit. \n",
    "\n",
    "For each symbol, we apply x-gate.\n",
    "\n",
    "If we observe $ 0 $ (resp., $1$) at the end, we output \"even\" (resp., \"odd\"). \n",
    "\n",
    "We test our program on randomly generated 10 strings of length less than 50."
   ]
  },
  {
   "cell_type": "code",
   "execution_count": null,
   "metadata": {},
   "outputs": [],
   "source": [
    "from qiskit import QuantumRegister, ClassicalRegister, QuantumCircuit, execute, Aer\n",
    "\n",
    "def parity_check(input):\n",
    "    qreg =  QuantumRegister(1)\n",
    "    creg = ClassicalRegister(1)\n",
    "    mycircuit = QuantumCircuit(qreg,creg)\n",
    "    for i in range(len(input)):\n",
    "        mycircuit.x(qreg[0])\n",
    "    mycircuit.measure(qreg,creg)\n",
    "    job = execute(mycircuit,Aer.get_backend('qasm_simulator'),shots=100)\n",
    "    counts = job.result().get_counts(mycircuit)\n",
    "    return counts\n",
    "\n",
    "from random import randrange\n",
    "\n",
    "for i in range(10):\n",
    "    length = randrange(50)\n",
    "    input = \"\"\n",
    "    for j in range(length):\n",
    "        input = input + \"a\"\n",
    "    counts = parity_check(input)\n",
    "    \n",
    "    print(\"the input is\",input)\n",
    "    print(\"its length is\",length)\n",
    "    print(counts)\n",
    "    for key in counts:\n",
    "        if key==\"0\": \n",
    "            print(\"the output 'even' is given\",counts[\"0\"],\"times\")\n",
    "        if key==\"1\": \n",
    "            print(\"the output 'odd' is given\",counts[\"1\"],\"times\")\n",
    "    print()"
   ]
  },
  {
   "cell_type": "markdown",
   "metadata": {},
   "source": [
    "<h3> Example 2 </h3>\n",
    "\n",
    "Let $ \\Sigma = \\{a,b\\} $.\n",
    "\n",
    "We decide whether the input contains odd numbers of $a$s and odd numbers of $b$s.\n",
    "\n",
    "We use two qubits. \n",
    "\n",
    "For each $a$, we apply x-gate to the first qubit.\n",
    "\n",
    "For each $b$, we apply x-gate to the second qubit.\n",
    "\n",
    "If we observe $ 11 $ at the end, we output \"yes\". Otherwise, we output \"no\". \n",
    "\n",
    "We test our program on randomly generated 20 strings of length less than 40."
   ]
  },
  {
   "cell_type": "code",
   "execution_count": null,
   "metadata": {},
   "outputs": [],
   "source": [
    "from qiskit import QuantumRegister, ClassicalRegister, QuantumCircuit, execute, Aer\n",
    "\n",
    "def double_odd(input):\n",
    "    qreg =  QuantumRegister(2)\n",
    "    creg = ClassicalRegister(2)\n",
    "    mycircuit = QuantumCircuit(qreg,creg)\n",
    "    for i in range(len(input)):\n",
    "        if input[i]==\"a\":\n",
    "            mycircuit.x(qreg[0])\n",
    "        if input[i]==\"b\":\n",
    "            mycircuit.x(qreg[1])\n",
    "    mycircuit.measure(qreg,creg)\n",
    "    job = execute(mycircuit,Aer.get_backend('qasm_simulator'),shots=100)\n",
    "    counts = job.result().get_counts(mycircuit)\n",
    "    return counts\n",
    "\n",
    "from random import randrange\n",
    "\n",
    "for i in range(20):\n",
    "    length = randrange(40)\n",
    "    input = \"\"\n",
    "    number_of_as=0\n",
    "    number_of_bs=0\n",
    "    for j in range(length):\n",
    "        if randrange(2)==0: \n",
    "            input = input + \"a\"\n",
    "            number_of_as = number_of_as + 1\n",
    "        else:\n",
    "            input = input + \"b\"\n",
    "            number_of_bs = number_of_bs + 1\n",
    "            \n",
    "    counts = double_odd(input)\n",
    "    \n",
    "    print(\"the input is\",input)\n",
    "    print(\"the number of as is\",number_of_as)\n",
    "    print(\"the number of bs is\",number_of_bs)\n",
    "    print(counts)\n",
    "    number_of_yes = 0\n",
    "    number_of_no = 0\n",
    "    for key in counts:\n",
    "        if key==\"11\": \n",
    "            number_of_yes = counts[\"11\"]\n",
    "        elif key==\"00\":\n",
    "            number_of_no = number_of_no + counts[\"00\"]\n",
    "        elif key==\"01\":\n",
    "            number_of_no = number_of_no + counts[\"01\"]\n",
    "        elif key==\"11\":\n",
    "            number_of_no = number_of_no + counts[\"10\"]\n",
    "    print(\"number of yes is\",number_of_yes,\"and number of no is\",number_of_no)\n",
    "    print()"
   ]
  },
  {
   "cell_type": "markdown",
   "metadata": {},
   "source": [
    "<h3> Task 1 </h3>\n",
    "\n",
    "Let $ \\Sigma = \\{a\\} $.\n",
    "\n",
    "You will read an input of length which is a multiple of $ 8 $: $ 8i \\in \\{8,16,24,\\ldots\\} $.\n",
    "\n",
    "Use a single qubit and determine whether the multiple ($ i $) is odd or even.\n",
    "\n",
    "For each $a$, you can apply a rotation.\n",
    "\n",
    "Test your program with the inputs of lengths $ 8, 16, 24, 32, 40, 48, 56, 64, 72, 80 $."
   ]
  },
  {
   "cell_type": "code",
   "execution_count": null,
   "metadata": {},
   "outputs": [],
   "source": [
    "#\n",
    "# your solution\n",
    "#\n"
   ]
  },
  {
   "cell_type": "markdown",
   "metadata": {},
   "source": [
    "<h3> Task 2 </h3>\n",
    "\n",
    "Let $ \\Sigma= \\{a\\} $.\n",
    "\n",
    "Determine whether the length of the input is a multiple of 7 or not in the following manner:\n",
    "\n",
    "1. If it is a multiple of 7, then output \"yes\" with probability 1.\n",
    "\n",
    "2. If it is not a multiple of 7, then output \"yes\" with probability less than 1.\n",
    "\n",
    "For each $a$, you can apply a rotation.\n",
    "\n",
    "Test your program with all inputs of lengths less than 29.\n",
    "\n",
    "Determine the inputs for which you output \"yes\" nearly three times less than the output \"no\"."
   ]
  },
  {
   "cell_type": "code",
   "execution_count": null,
   "metadata": {},
   "outputs": [],
   "source": [
    "#\n",
    "# your solution\n",
    "#\n"
   ]
  },
  {
   "cell_type": "markdown",
   "metadata": {},
   "source": [
    "<h3> Task 3 </h3>\n",
    "\n",
    "Write down possible six different rotation angles that would work for Task 2."
   ]
  },
  {
   "cell_type": "markdown",
   "metadata": {},
   "source": [
    "<b> Rotations:</b>\n",
    "\n",
    "(Double click to this cell for editing.)\n",
    "\n",
    "1. $ \\cdot\\frac{\\pi}{\\cdot} $\n",
    "2. $ \\cdot\\frac{\\pi}{\\cdot} $\n",
    "3. $ \\cdot\\frac{\\pi}{\\cdot} $\n",
    "4. $ \\cdot\\frac{\\pi}{\\cdot} $\n",
    "5. $ \\cdot\\frac{\\pi}{\\cdot} $\n",
    "6. $ \\cdot\\frac{\\pi}{\\cdot} $"
   ]
  },
  {
   "cell_type": "markdown",
   "metadata": {},
   "source": [
    "<h3> Task 4 </h3>\n",
    "\n",
    "Experimentially test each of these rotations for Task 2."
   ]
  },
  {
   "cell_type": "code",
   "execution_count": null,
   "metadata": {},
   "outputs": [],
   "source": [
    "#\n",
    "# your solution\n",
    "#\n"
   ]
  },
  {
   "cell_type": "markdown",
   "metadata": {},
   "source": [
    "<h3> Task 5</h3>\n",
    "\n",
    "We can improve the algorihtm for Task 2.\n",
    "\n",
    "Let $ \\Sigma= \\{a\\} $.\n",
    "\n",
    "Determine whether the length of input is a multiple of 91.\n",
    "\n",
    "There are 90 different rotations that you can use.\n",
    "\n",
    "Randomly pick four of these rotations and fix them.\n",
    "\n",
    "Use four qubits. \n",
    "\n",
    "In each qubit, apply one of these rotations.\n",
    "\n",
    "Test your program with all inputs of lengths less than 92.\n",
    "\n",
    "If the input length is 91, then your program should output \"yes\" with probability 1.\n",
    "\n",
    "If the input length is not 91, then your program should output \"yes\" with probability no more than $ \\epsilon $, where $ \\epsilon < \\frac{1}{2}$. [*]\n",
    "\n",
    "Experimentially verify both cases, and also determine the approximate value of $\\epsilon$.\n",
    "\n",
    "[*] Remark that the randomly picked rotations would work high likely. But, there is still a small chance that $\\epsilon$ can be more than $ \\frac{1}{2} $ because of certain sets of ratations."
   ]
  },
  {
   "cell_type": "code",
   "execution_count": null,
   "metadata": {},
   "outputs": [],
   "source": [
    "#\n",
    "# your solution\n",
    "#\n"
   ]
  },
  {
   "cell_type": "markdown",
   "metadata": {},
   "source": [
    "<h3> Task 6 </h3>\n",
    "\n",
    "Repeat Task 5 with five and then six rotations by using five and six qubits, respectively.\n",
    "\n",
    "The value of $ \\epsilon $ is expected to decrease if we use more rotations and qubits."
   ]
  },
  {
   "cell_type": "code",
   "execution_count": null,
   "metadata": {},
   "outputs": [],
   "source": [
    "#\n",
    "# your solution\n",
    "#\n"
   ]
  }
 ],
 "metadata": {
  "kernelspec": {
   "display_name": "Python (Qiskitenv)",
   "language": "python",
   "name": "qiskitenv"
  },
  "language_info": {
   "codemirror_mode": {
    "name": "ipython",
    "version": 3
   },
   "file_extension": ".py",
   "mimetype": "text/x-python",
   "name": "python",
   "nbconvert_exporter": "python",
   "pygments_lexer": "ipython3",
   "version": "3.7.1"
  }
 },
 "nbformat": 4,
 "nbformat_minor": 2
}
