{
 "cells": [
  {
   "cell_type": "markdown",
   "metadata": {},
   "source": [
    "<table>\n",
    "    <tr><td align=\"right\" style=\"background-color:#ffffff;\">\n",
    "        <img src=\"../images/logo.jpg\" width=\"20%\" align=\"right\">\n",
    "    </td></tr>\n",
    "    <tr><td align=\"right\" style=\"color:#777777;background-color:#ffffff;font-size:12px;\">\n",
    "        Abuzer Yakaryilmaz | April 28, 2019 (updated) \n",
    "    </td></tr>\n",
    "    <tr><td align=\"right\" style=\"color:#bbbbbb;background-color:#ffffff;font-size:11px;font-style:italic;\">\n",
    "        This cell contains some macros. If there is a problem with displaying mathematical formulas, please run this cell to load these macros.\n",
    "    </td></tr>\n",
    "</table>\n",
    "$ \\newcommand{\\bra}[1]{\\langle #1|} $\n",
    "$ \\newcommand{\\ket}[1]{|#1\\rangle} $\n",
    "$ \\newcommand{\\braket}[2]{\\langle #1|#2\\rangle} $\n",
    "$ \\newcommand{\\dot}[2]{ #1 \\cdot #2} $\n",
    "$ \\newcommand{\\biginner}[2]{\\left\\langle #1,#2\\right\\rangle} $\n",
    "$ \\newcommand{\\mymatrix}[2]{\\left( \\begin{array}{#1} #2\\end{array} \\right)} $\n",
    "$ \\newcommand{\\myvector}[1]{\\mymatrix{c}{#1}} $\n",
    "$ \\newcommand{\\myrvector}[1]{\\mymatrix{r}{#1}} $\n",
    "$ \\newcommand{\\mypar}[1]{\\left( #1 \\right)} $\n",
    "$ \\newcommand{\\mybigpar}[1]{ \\Big( #1 \\Big)} $\n",
    "$ \\newcommand{\\sqrttwo}{\\frac{1}{\\sqrt{2}}} $\n",
    "$ \\newcommand{\\dsqrttwo}{\\dfrac{1}{\\sqrt{2}}} $\n",
    "$ \\newcommand{\\onehalf}{\\frac{1}{2}} $\n",
    "$ \\newcommand{\\donehalf}{\\dfrac{1}{2}} $\n",
    "$ \\newcommand{\\hadamard}{ \\mymatrix{rr}{ \\sqrttwo & \\sqrttwo \\\\ \\sqrttwo & -\\sqrttwo }} $\n",
    "$ \\newcommand{\\vzero}{\\myvector{1\\\\0}} $\n",
    "$ \\newcommand{\\vone}{\\myvector{0\\\\1}} $\n",
    "$ \\newcommand{\\vhadamardzero}{\\myvector{ \\sqrttwo \\\\  \\sqrttwo } } $\n",
    "$ \\newcommand{\\vhadamardone}{ \\myrvector{ \\sqrttwo \\\\ -\\sqrttwo } } $\n",
    "$ \\newcommand{\\myarray}[2]{ \\begin{array}{#1}#2\\end{array}} $\n",
    "$ \\newcommand{\\X}{ \\mymatrix{cc}{0 & 1 \\\\ 1 & 0}  } $\n",
    "$ \\newcommand{\\Z}{ \\mymatrix{rr}{1 & 0 \\\\ 0 & -1}  } $\n",
    "$ \\newcommand{\\Htwo}{ \\mymatrix{rrrr}{ \\frac{1}{2} & \\frac{1}{2} & \\frac{1}{2} & \\frac{1}{2} \\\\ \\frac{1}{2} & -\\frac{1}{2} & \\frac{1}{2} & -\\frac{1}{2} \\\\ \\frac{1}{2} & \\frac{1}{2} & -\\frac{1}{2} & -\\frac{1}{2} \\\\ \\frac{1}{2} & -\\frac{1}{2} & -\\frac{1}{2} & \\frac{1}{2} } } $\n",
    "$ \\newcommand{\\CNOT}{ \\mymatrix{cccc}{1 & 0 & 0 & 0 \\\\ 0 & 1 & 0 & 0 \\\\ 0 & 0 & 0 & 1 \\\\ 0 & 0 & 1 & 0} } $\n",
    "$ \\newcommand{\\norm}[1]{ \\left\\lVert #1 \\right\\rVert } $"
   ]
  },
  {
   "cell_type": "markdown",
   "metadata": {},
   "source": [
    "<h2> <font color=\"blue\"> Solutions for </font>Rotations</h2>"
   ]
  },
  {
   "cell_type": "markdown",
   "metadata": {},
   "source": [
    "<a id=\"task2\"></a>\n",
    "<h3> Task 2 </h3>\n",
    "\n",
    "Start with state $ \\ket{0} $. \n",
    "\n",
    "Apply $ R(\\pi/4) $ 7 times, and draw each state on the unit circle."
   ]
  },
  {
   "cell_type": "markdown",
   "metadata": {},
   "source": [
    "<h3>Solution</h3>"
   ]
  },
  {
   "cell_type": "code",
   "execution_count": null,
   "metadata": {},
   "outputs": [],
   "source": [
    "%run qlatvia.py\n",
    "\n",
    "draw_qubit()\n",
    "\n",
    "[x,y]=[1,0]\n",
    "\n",
    "draw_quantum_state(x,y,\"v0\")\n",
    "\n",
    "sqrttwo = 2**0.5\n",
    "oversqrttwo = 1/sqrttwo\n",
    "\n",
    "R = [ [oversqrttwo, -1*oversqrttwo], [oversqrttwo,oversqrttwo] ]\n",
    "\n",
    "# function for rotation R\n",
    "def rotate(px,py):\n",
    "    newx = R[0][0]*px + R[0][1]*py\n",
    "    newy = R[1][0]*px + R[1][1]*py\n",
    "    return [newx,newy]\n",
    "\n",
    "# apply rotation R 7 times\n",
    "for i in range(1,8):\n",
    "    [x,y] = rotate(x,y)\n",
    "    draw_quantum_state(x,y,\"|v\"+str(i)+\">\")\n"
   ]
  },
  {
   "cell_type": "markdown",
   "metadata": {},
   "source": [
    "<a id=\"task4\"></a>\n",
    "<h3> Task 4 </h3>\n",
    "\n",
    "Create three separate qubits (i.e., different circuits).\n",
    "\n",
    "Randomly pick an angle $ \\theta $.\n",
    "\n",
    "Rotate the first qubit with angle $ \\theta $.\n",
    "\n",
    "Rotate the second and third qubits with angles $\\theta_1$ and $ \\theta_2 $ such that both states are different but orthogonal to the state of the first qubit.\n",
    "\n",
    "Read the states of three qubits from the local simulator, say $ \\ket{v_0} $, $ \\ket{v_1} $, and $ \\ket{v_2} $, respectively. \n",
    "\n",
    "Verify the following by drawing or by finding their dot products:\n",
    "<ol>\n",
    "    <li>$ \\ket{v_0} $ and $ \\ket{v_1} $ are orthogonal (i.e., their dot product is zero.)</li>\n",
    "    <li>$ \\ket{v_0} $ and $ \\ket{v_2} $ are orthogonal</li>\n",
    "    <li>$ \\ket{v_1} = -1\\ket{v_2} $ (i.e., their dot product is -1).</li>\n",
    "</ol>\n",
    "\n",
    "<i><b>The orthogonal states can be separated exactly.</b></i>\n",
    "\n",
    "Rotate all three qubits with an angle $\\theta'$ such that we observe only state $ \\ket{0} $ in the first qubit and state $ \\ket{1} $ in the second and third qubits (or vice versa).\n",
    "\n",
    "<i> Remark that, after picking $\\theta$, you determine $\\theta_1$, $ \\theta_2 $, and $ \\theta' $.</i>\n",
    "\n",
    "Measure each qubit.\n",
    "\n",
    "Execute your program 1000 times."
   ]
  },
  {
   "cell_type": "markdown",
   "metadata": {},
   "source": [
    "<h3>Solution</h3>"
   ]
  },
  {
   "cell_type": "code",
   "execution_count": 3,
   "metadata": {},
   "outputs": [
    {
     "name": "stdout",
     "output_type": "stream",
     "text": [
      "the picked angle is 183.6 degrees and 3.204424506661589 radians\n"
     ]
    },
    {
     "data": {
      "text/plain": [
       "<qiskit.extensions.standard.ry.RYGate at 0x11da00c18>"
      ]
     },
     "execution_count": 3,
     "metadata": {},
     "output_type": "execute_result"
    }
   ],
   "source": [
    "from qiskit import QuantumRegister, ClassicalRegister, QuantumCircuit, execute, Aer\n",
    "from math import pi\n",
    "from random import randrange\n",
    "\n",
    "# first qubit \n",
    "qreg1 =  QuantumRegister(1) \n",
    "creg1 = ClassicalRegister(1) \n",
    "mycircuit1 = QuantumCircuit(qreg1,creg1)\n",
    "\n",
    "# second qubit \n",
    "qreg2 =  QuantumRegister(1) \n",
    "creg2 = ClassicalRegister(1) \n",
    "mycircuit2 = QuantumCircuit(qreg2,creg2)\n",
    "\n",
    "# third qubit \n",
    "qreg3 =  QuantumRegister(1) \n",
    "creg3 = ClassicalRegister(1) \n",
    "mycircuit3 = QuantumCircuit(qreg3,creg3)\n",
    "\n",
    "# randomly pick the angle of rotation\n",
    "r = randrange(100)\n",
    "theta = 2*pi*(r/100) # radians\n",
    "print(\"the picked angle is\",r*3.6,\"degrees and\",theta,\"radians\")\n",
    "\n",
    "\n",
    "# rotate the first qubit\n",
    "mycircuit1.ry(2*theta,qreg1[0])\n",
    "\n",
    "# the different angles orthogonal to theta\n",
    "theta1 = theta + pi/2\n",
    "theta2 = theta - pi/2\n",
    "\n",
    "# rotate the second and third qubits\n",
    "mycircuit2.ry(2*theta1,qreg2[0])\n",
    "mycircuit3.ry(2*theta2,qreg3[0])"
   ]
  },
  {
   "cell_type": "code",
   "execution_count": 4,
   "metadata": {},
   "outputs": [
    {
     "name": "stdout",
     "output_type": "stream",
     "text": [
      "the first qubit: -0.9980267284282716 -0.06279051952931333\n",
      "the second qubit: 0.06279051952931283 -0.9980267284282716\n",
      "the third qubit: -0.0627905195293134 0.9980267284282716\n"
     ]
    }
   ],
   "source": [
    "# read the quantum state of the first qubit\n",
    "job = execute(mycircuit1,Aer.get_backend('statevector_simulator'))\n",
    "current_quantum_state=job.result().get_statevector(mycircuit1) \n",
    "[x1,y1]=[current_quantum_state[0].real,current_quantum_state[1].real]\n",
    "print(\"the first qubit:\",x1,y1)\n",
    "\n",
    "# read the quantum state of the second qubit\n",
    "job = execute(mycircuit2,Aer.get_backend('statevector_simulator'))\n",
    "current_quantum_state=job.result().get_statevector(mycircuit2) \n",
    "[x2,y2]=[current_quantum_state[0].real,current_quantum_state[1].real]\n",
    "print(\"the second qubit:\",x2,y2)\n",
    "\n",
    "# read the quantum state of the third qubit\n",
    "job = execute(mycircuit3,Aer.get_backend('statevector_simulator'))\n",
    "current_quantum_state=job.result().get_statevector(mycircuit3) \n",
    "[x3,y3]=[current_quantum_state[0].real,current_quantum_state[1].real]\n",
    "print(\"the third qubit:\",x3,y3)"
   ]
  },
  {
   "cell_type": "code",
   "execution_count": 5,
   "metadata": {},
   "outputs": [
    {
     "data": {
      "image/png": "[encoded data removed]",
      "text/plain": [
       "<Figure size 360x360 with 1 Axes>"
      ]
     },
     "metadata": {
      "needs_background": "light"
     },
     "output_type": "display_data"
    }
   ],
   "source": [
    "%run qlatvia.py\n",
    "\n",
    "draw_qubit()\n",
    "\n",
    "draw_quantum_state(x1,y1,\"v0\")\n",
    "draw_quantum_state(x2,y2,\"v1\")\n",
    "draw_quantum_state(x3,y3,\"v2\")"
   ]
  },
  {
   "cell_type": "code",
   "execution_count": 6,
   "metadata": {},
   "outputs": [
    {
     "name": "stdout",
     "output_type": "stream",
     "text": [
      "the dot product of |v0> and |v1> is 4.996003610813204e-16\n",
      "the dot product of |v0> and |v2> is 6.938893903907228e-17\n",
      "the dot product of |v1> and |v2> is -0.9999999999999999\n"
     ]
    }
   ],
   "source": [
    "print(\"the dot product of |v0> and |v1> is\",x1*x2+y1*y2)\n",
    "print(\"the dot product of |v0> and |v2> is\",x1*x3+y1*y3)\n",
    "print(\"the dot product of |v1> and |v2> is\",x2*x3+y2*y3)"
   ]
  },
  {
   "cell_type": "code",
   "execution_count": 9,
   "metadata": {},
   "outputs": [
    {
     "data": {
      "text/plain": [
       "<qiskit.circuit.instructionset.InstructionSet at 0x12e08aa90>"
      ]
     },
     "execution_count": 9,
     "metadata": {},
     "output_type": "execute_result"
    }
   ],
   "source": [
    "# make a full rotation by theta + theta_prime\n",
    "theta_prime = 2*pi - theta\n",
    "\n",
    "# rotate all qubits with theta_prime\n",
    "mycircuit1.ry(2*theta_prime,qreg1[0])\n",
    "mycircuit2.ry(2*theta_prime,qreg2[0])\n",
    "mycircuit3.ry(2*theta_prime,qreg3[0])\n",
    "\n",
    "# measure all qubits\n",
    "mycircuit1.measure(qreg1,creg1)\n",
    "mycircuit2.measure(qreg2,creg2)\n",
    "mycircuit3.measure(qreg3,creg3)"
   ]
  },
  {
   "cell_type": "code",
   "execution_count": 10,
   "metadata": {},
   "outputs": [
    {
     "data": {
      "text/html": [
       "<pre style=\"word-wrap: normal;white-space: pre;line-height: 15px;\">         ┌────────────┐┌────────────┐┌─┐┌────────────┐┌─┐┌────────────┐┌─┐\n",
       "q0_0: |0>┤ Ry(6.4088) ├┤ Ry(6.1575) ├┤M├┤ Ry(6.1575) ├┤M├┤ Ry(6.1575) ├┤M├\n",
       "         └────────────┘└────────────┘└╥┘└────────────┘└╥┘└────────────┘└╥┘\n",
       " c0_0: 0 ═════════════════════════════╩════════════════╩════════════════╩═\n",
       "                                                                          </pre>"
      ],
      "text/plain": [
       "<qiskit.tools.visualization._text.TextDrawing at 0x12e098710>"
      ]
     },
     "execution_count": 10,
     "metadata": {},
     "output_type": "execute_result"
    }
   ],
   "source": [
    "# draw the first circuit\n",
    "mycircuit1.draw()"
   ]
  },
  {
   "cell_type": "code",
   "execution_count": 11,
   "metadata": {},
   "outputs": [
    {
     "data": {
      "text/html": [
       "<pre style=\"word-wrap: normal;white-space: pre;line-height: 15px;\">         ┌────────────┐┌────────────┐┌─┐┌────────────┐┌─┐┌────────────┐┌─┐\n",
       "q1_0: |0>┤ Ry(9.5504) ├┤ Ry(6.1575) ├┤M├┤ Ry(6.1575) ├┤M├┤ Ry(6.1575) ├┤M├\n",
       "         └────────────┘└────────────┘└╥┘└────────────┘└╥┘└────────────┘└╥┘\n",
       " c1_0: 0 ═════════════════════════════╩════════════════╩════════════════╩═\n",
       "                                                                          </pre>"
      ],
      "text/plain": [
       "<qiskit.tools.visualization._text.TextDrawing at 0x12e1a6048>"
      ]
     },
     "execution_count": 11,
     "metadata": {},
     "output_type": "execute_result"
    }
   ],
   "source": [
    "# draw the second circuit\n",
    "mycircuit2.draw()"
   ]
  },
  {
   "cell_type": "code",
   "execution_count": 12,
   "metadata": {},
   "outputs": [
    {
     "data": {
      "text/html": [
       "<pre style=\"word-wrap: normal;white-space: pre;line-height: 15px;\">         ┌────────────┐┌────────────┐┌─┐┌────────────┐┌─┐┌────────────┐┌─┐\n",
       "q2_0: |0>┤ Ry(3.2673) ├┤ Ry(6.1575) ├┤M├┤ Ry(6.1575) ├┤M├┤ Ry(6.1575) ├┤M├\n",
       "         └────────────┘└────────────┘└╥┘└────────────┘└╥┘└────────────┘└╥┘\n",
       " c2_0: 0 ═════════════════════════════╩════════════════╩════════════════╩═\n",
       "                                                                          </pre>"
      ],
      "text/plain": [
       "<qiskit.tools.visualization._text.TextDrawing at 0x12e1a6240>"
      ]
     },
     "execution_count": 12,
     "metadata": {},
     "output_type": "execute_result"
    }
   ],
   "source": [
    "# draw the third circuit\n",
    "mycircuit3.draw()"
   ]
  },
  {
   "cell_type": "code",
   "execution_count": 13,
   "metadata": {},
   "outputs": [
    {
     "name": "stdout",
     "output_type": "stream",
     "text": [
      "{'1': 10, '0': 990}\n",
      "{'1': 989, '0': 11}\n",
      "{'1': 982, '0': 18}\n"
     ]
    }
   ],
   "source": [
    "# execute the first circuit\n",
    "job = execute(mycircuit1,Aer.get_backend('qasm_simulator'),shots=1000)\n",
    "counts = job.result().get_counts(mycircuit1)\n",
    "print(counts)\n",
    "\n",
    "# execute the second circuit\n",
    "job = execute(mycircuit2,Aer.get_backend('qasm_simulator'),shots=1000)\n",
    "counts = job.result().get_counts(mycircuit2)\n",
    "print(counts)\n",
    "\n",
    "# execute the third circuit\n",
    "job = execute(mycircuit3,Aer.get_backend('qasm_simulator'),shots=1000)\n",
    "counts = job.result().get_counts(mycircuit3)\n",
    "print(counts)"
   ]
  },
  {
   "cell_type": "markdown",
   "metadata": {},
   "source": [
    "<a id=\"task5\"></a>\n",
    "<h3> Task 5 </h3>\n",
    "\n",
    "Create a quantum circuit with one qubit and one bit.\n",
    "\n",
    "Rotate the qubit with angle $ \\pi/4 $ eight times.\n",
    "\n",
    "After each rotation, print the unitary operator representing the whole rotations until this point.\n",
    "\n",
    "Verify your results by printing the rotation matrix in python. "
   ]
  },
  {
   "cell_type": "code",
   "execution_count": null,
   "metadata": {},
   "outputs": [],
   "source": [
    "from qiskit import QuantumRegister, ClassicalRegister, QuantumCircuit, execute, Aer\n",
    "from math import pi, cos, sin\n",
    "\n",
    "# first qubit \n",
    "qreg =  QuantumRegister(1) \n",
    "creg = ClassicalRegister(1) \n",
    "mycircuit = QuantumCircuit(qreg,creg)\n",
    "\n",
    "theta=pi/4\n",
    "\n",
    "for i in range(1,9):\n",
    "    total_theta = i*theta\n",
    "    mycircuit.ry(2*theta,qreg[0])\n",
    "    job = execute(mycircuit, Aer.get_backend('unitary_simulator'))\n",
    "    current_unitary = job.result().get_unitary(mycircuit, decimals=3)\n",
    "    print(\"after\",i,\"iteration(s):\")\n",
    "    print(current_unitary[0][0].real,current_unitary[0][1].real)\n",
    "    print(current_unitary[1][0].real,current_unitary[1][1].real)\n",
    "    print(\"calculated by python:\")\n",
    "    print(round(cos(total_theta),3),round(-sin(total_theta),3))\n",
    "    print(round(sin(total_theta),3),round(cos(total_theta),3))\n",
    "    print()"
   ]
  },
  {
   "cell_type": "code",
   "execution_count": null,
   "metadata": {},
   "outputs": [],
   "source": []
  }
 ],
 "metadata": {
  "kernelspec": {
   "display_name": "Python 3",
   "language": "python",
   "name": "python3"
  },
  "language_info": {
   "codemirror_mode": {
    "name": "ipython",
    "version": 3
   },
   "file_extension": ".py",
   "mimetype": "text/x-python",
   "name": "python",
   "nbconvert_exporter": "python",
   "pygments_lexer": "ipython3",
   "version": "3.7.3"
  }
 },
 "nbformat": 4,
 "nbformat_minor": 2
}
