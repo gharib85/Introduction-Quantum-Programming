{
 "cells": [
  {
   "cell_type": "markdown",
   "metadata": {},
   "source": [
    "<table>\n",
    "    <tr><td align=\"right\" style=\"background-color:#ffffff;\">\n",
    "        <img src=\"../images/logo.jpg\" width=\"20%\" align=\"right\">\n",
    "    </td></tr>\n",
    "    <tr><td align=\"right\" style=\"color:#777777;background-color:#ffffff;font-size:12px;\">\n",
    "        Abuzer Yakaryilmaz | May 1, 2019 (updated) \n",
    "    </td></tr>\n",
    "    <tr><td align=\"right\" style=\"color:#bbbbbb;background-color:#ffffff;font-size:11px;font-style:italic;\">\n",
    "        This cell contains some macros. If there is a problem with displaying mathematical formulas, please run this cell to load these macros.\n",
    "    </td></tr>\n",
    "</table>\n",
    "$ \\newcommand{\\bra}[1]{\\langle #1|} $\n",
    "$ \\newcommand{\\ket}[1]{|#1\\rangle} $\n",
    "$ \\newcommand{\\braket}[2]{\\langle #1|#2\\rangle} $\n",
    "$ \\newcommand{\\dot}[2]{ #1 \\cdot #2} $\n",
    "$ \\newcommand{\\biginner}[2]{\\left\\langle #1,#2\\right\\rangle} $\n",
    "$ \\newcommand{\\mymatrix}[2]{\\left( \\begin{array}{#1} #2\\end{array} \\right)} $\n",
    "$ \\newcommand{\\myvector}[1]{\\mymatrix{c}{#1}} $\n",
    "$ \\newcommand{\\myrvector}[1]{\\mymatrix{r}{#1}} $\n",
    "$ \\newcommand{\\mypar}[1]{\\left( #1 \\right)} $\n",
    "$ \\newcommand{\\mybigpar}[1]{ \\Big( #1 \\Big)} $\n",
    "$ \\newcommand{\\sqrttwo}{\\frac{1}{\\sqrt{2}}} $\n",
    "$ \\newcommand{\\dsqrttwo}{\\dfrac{1}{\\sqrt{2}}} $\n",
    "$ \\newcommand{\\onehalf}{\\frac{1}{2}} $\n",
    "$ \\newcommand{\\donehalf}{\\dfrac{1}{2}} $\n",
    "$ \\newcommand{\\hadamard}{ \\mymatrix{rr}{ \\sqrttwo & \\sqrttwo \\\\ \\sqrttwo & -\\sqrttwo }} $\n",
    "$ \\newcommand{\\vzero}{\\myvector{1\\\\0}} $\n",
    "$ \\newcommand{\\vone}{\\myvector{0\\\\1}} $\n",
    "$ \\newcommand{\\vhadamardzero}{\\myvector{ \\sqrttwo \\\\  \\sqrttwo } } $\n",
    "$ \\newcommand{\\vhadamardone}{ \\myrvector{ \\sqrttwo \\\\ -\\sqrttwo } } $\n",
    "$ \\newcommand{\\myarray}[2]{ \\begin{array}{#1}#2\\end{array}} $\n",
    "$ \\newcommand{\\X}{ \\mymatrix{cc}{0 & 1 \\\\ 1 & 0}  } $\n",
    "$ \\newcommand{\\Z}{ \\mymatrix{rr}{1 & 0 \\\\ 0 & -1}  } $\n",
    "$ \\newcommand{\\Htwo}{ \\mymatrix{rrrr}{ \\frac{1}{2} & \\frac{1}{2} & \\frac{1}{2} & \\frac{1}{2} \\\\ \\frac{1}{2} & -\\frac{1}{2} & \\frac{1}{2} & -\\frac{1}{2} \\\\ \\frac{1}{2} & \\frac{1}{2} & -\\frac{1}{2} & -\\frac{1}{2} \\\\ \\frac{1}{2} & -\\frac{1}{2} & -\\frac{1}{2} & \\frac{1}{2} } } $\n",
    "$ \\newcommand{\\CNOT}{ \\mymatrix{cccc}{1 & 0 & 0 & 0 \\\\ 0 & 1 & 0 & 0 \\\\ 0 & 0 & 0 & 1 \\\\ 0 & 0 & 1 & 0} } $\n",
    "$ \\newcommand{\\norm}[1]{ \\left\\lVert #1 \\right\\rVert } $"
   ]
  },
  {
   "cell_type": "markdown",
   "metadata": {},
   "source": [
    "<h2> <font color=\"blue\"> Solutions for </font> Inversion About the Mean</h2>"
   ]
  },
  {
   "cell_type": "markdown",
   "metadata": {},
   "source": [
    "<a id=\"task1\"></a>\n",
    "<h3>Task 1</h3>\n",
    "\n",
    "We play this game for $ N = 8 $.\n",
    "\n",
    "Suppose that only the 4th element is marked.\n",
    "\n",
    "We can visualize the values of elements in the list in the beginning as follows."
   ]
  },
  {
   "cell_type": "code",
   "execution_count": 3,
   "metadata": {},
   "outputs": [
    {
     "data": {
      "text/plain": [
       "<BarContainer object of 8 artists>"
      ]
     },
     "execution_count": 3,
     "metadata": {},
     "output_type": "execute_result"
    },
    {
     "data": {
      "image/png": "[encoded data removed]",
      "text/plain": [
       "<Figure size 432x288 with 1 Axes>"
      ]
     },
     "metadata": {
      "needs_background": "light"
     },
     "output_type": "display_data"
    }
   ],
   "source": [
    "from matplotlib.pyplot import bar\n",
    "\n",
    "labels = []\n",
    "L = []\n",
    "for i in range(8):\n",
    "    labels = labels + [i+1]\n",
    "    L  = L + [1]\n",
    "\n",
    "# visualize the values of elements in the list \n",
    "bar(labels,L)"
   ]
  },
  {
   "cell_type": "markdown",
   "metadata": {},
   "source": [
    "<h3>Solution</h3>"
   ]
  },
  {
   "cell_type": "markdown",
   "metadata": {},
   "source": [
    "Iterate the game for one step and visualize the values of elements in the list after each phase."
   ]
  },
  {
   "cell_type": "markdown",
   "metadata": {},
   "source": [
    "1st step - query phase:"
   ]
  },
  {
   "cell_type": "code",
   "execution_count": 4,
   "metadata": {},
   "outputs": [
    {
     "data": {
      "text/plain": [
       "<BarContainer object of 8 artists>"
      ]
     },
     "execution_count": 4,
     "metadata": {},
     "output_type": "execute_result"
    },
    {
     "data": {
      "image/png": "[encoded data removed]",
      "text/plain": [
       "<Figure size 432x288 with 1 Axes>"
      ]
     },
     "metadata": {
      "needs_background": "light"
     },
     "output_type": "display_data"
    }
   ],
   "source": [
    "# \n",
    "# 1st step - query\n",
    "#\n",
    "\n",
    "# flip the sign of the marked element\n",
    "L[3] = -1 * L[3]\n",
    "\n",
    "# visualize the values of elements in the list \n",
    "bar(labels,L)"
   ]
  },
  {
   "cell_type": "markdown",
   "metadata": {},
   "source": [
    "1st step - inversion phase:"
   ]
  },
  {
   "cell_type": "code",
   "execution_count": 5,
   "metadata": {},
   "outputs": [
    {
     "data": {
      "text/plain": [
       "<BarContainer object of 8 artists>"
      ]
     },
     "execution_count": 5,
     "metadata": {},
     "output_type": "execute_result"
    },
    {
     "data": {
      "image/png": "[encoded data removed]",
      "text/plain": [
       "<Figure size 432x288 with 1 Axes>"
      ]
     },
     "metadata": {
      "needs_background": "light"
     },
     "output_type": "display_data"
    }
   ],
   "source": [
    "#\n",
    "# 1st step - inversion\n",
    "#\n",
    "\n",
    "# summation of all values\n",
    "sum = 0\n",
    "for i in range(len(L)):\n",
    "    sum += L[i]\n",
    "\n",
    "# mean of all values\n",
    "mean = sum / len(L)\n",
    "\n",
    "# reflection over the mean\n",
    "for i in range(len(L)):\n",
    "    value = L[i]\n",
    "    new_value = mean - (L[i]-mean)\n",
    "    L[i] = new_value\n",
    "\n",
    "# visualize the values of elements in the list \n",
    "bar(labels,L)"
   ]
  },
  {
   "cell_type": "markdown",
   "metadata": {},
   "source": [
    "Iterate the game for one more step and visualize the values of elements in the list after each phase."
   ]
  },
  {
   "cell_type": "markdown",
   "metadata": {},
   "source": [
    "2nd step - query phase:"
   ]
  },
  {
   "cell_type": "code",
   "execution_count": 6,
   "metadata": {},
   "outputs": [
    {
     "data": {
      "text/plain": [
       "<BarContainer object of 8 artists>"
      ]
     },
     "execution_count": 6,
     "metadata": {},
     "output_type": "execute_result"
    },
    {
     "data": {
      "image/png": "[encoded data removed]",
      "text/plain": [
       "<Figure size 432x288 with 1 Axes>"
      ]
     },
     "metadata": {
      "needs_background": "light"
     },
     "output_type": "display_data"
    }
   ],
   "source": [
    "# \n",
    "# 2nd step - query\n",
    "#\n",
    "\n",
    "# flip the sign of the marked element\n",
    "L[3] = -1 * L[3]\n",
    "\n",
    "# visualize the values of elements in the list \n",
    "bar(labels,L)"
   ]
  },
  {
   "cell_type": "markdown",
   "metadata": {},
   "source": [
    "2nd step - inversion phase:"
   ]
  },
  {
   "cell_type": "code",
   "execution_count": 7,
   "metadata": {},
   "outputs": [
    {
     "data": {
      "text/plain": [
       "<BarContainer object of 8 artists>"
      ]
     },
     "execution_count": 7,
     "metadata": {},
     "output_type": "execute_result"
    },
    {
     "data": {
      "image/png": "[encoded data removed]",
      "text/plain": [
       "<Figure size 432x288 with 1 Axes>"
      ]
     },
     "metadata": {
      "needs_background": "light"
     },
     "output_type": "display_data"
    }
   ],
   "source": [
    "#\n",
    "# 2nd step - inversion\n",
    "#\n",
    "\n",
    "# summation of all values\n",
    "sum = 0\n",
    "for i in range(len(L)):\n",
    "    sum += L[i]\n",
    "\n",
    "# mean of all values\n",
    "mean = sum / len(L)\n",
    "\n",
    "# reflection over mean\n",
    "for i in range(len(L)):\n",
    "    value = L[i]\n",
    "    new_value = mean - (L[i]-mean)\n",
    "    L[i] = new_value\n",
    "\n",
    "# visualize the values of elements in the list \n",
    "bar(labels,L)"
   ]
  },
  {
   "cell_type": "markdown",
   "metadata": {},
   "source": [
    "Iterate the game three more steps and visualize the values of elements in the list at the end."
   ]
  },
  {
   "cell_type": "code",
   "execution_count": 8,
   "metadata": {},
   "outputs": [
    {
     "data": {
      "text/plain": [
       "<BarContainer object of 8 artists>"
      ]
     },
     "execution_count": 8,
     "metadata": {},
     "output_type": "execute_result"
    },
    {
     "data": {
      "image/png": "[encoded data removed]",
      "text/plain": [
       "<Figure size 432x288 with 1 Axes>"
      ]
     },
     "metadata": {
      "needs_background": "light"
     },
     "output_type": "display_data"
    }
   ],
   "source": [
    "for i in range(3):\n",
    "    # flip the sign of the marked element\n",
    "    L[3] = -1 * L[3]\n",
    "    \n",
    "    # summation of all values\n",
    "    sum = 0\n",
    "    for i in range(len(L)):\n",
    "        sum += L[i]\n",
    "\n",
    "    # mean of all values\n",
    "    mean = sum / len(L)\n",
    "\n",
    "    # reflection over mean\n",
    "    for i in range(len(L)):\n",
    "        value = L[i]\n",
    "        new_value = mean - (L[i]-mean)\n",
    "        L[i] = new_value\n",
    "        \n",
    "# visualize the values of elements in the list \n",
    "bar(labels,L)        "
   ]
  },
  {
   "cell_type": "markdown",
   "metadata": {},
   "source": [
    "<a id=\"task2\"></a>\n",
    "<h3> Task 2</h3>\n",
    "\n",
    "We play this game for $ N = 16 $.\n",
    "\n",
    "Suppose that only the 11th element is marked.\n",
    "\n",
    "Play the game for 20 iterations, and print the value of the 11th element after each phase of every iteration."
   ]
  },
  {
   "cell_type": "markdown",
   "metadata": {},
   "source": [
    "<h3>Solution</h3>"
   ]
  },
  {
   "cell_type": "code",
   "execution_count": 9,
   "metadata": {},
   "outputs": [
    {
     "name": "stdout",
     "output_type": "stream",
     "text": [
      "1 th iteration:\n",
      "-1\n",
      "2.75\n",
      "\n",
      "2 th iteration:\n",
      "-2.75\n",
      "3.8125\n",
      "\n",
      "3 th iteration:\n",
      "-3.8125\n",
      "3.921875\n",
      "\n",
      "4 th iteration:\n",
      "-3.921875\n",
      "3.05078125\n",
      "\n",
      "5 th iteration:\n",
      "-3.05078125\n",
      "1.4169921875\n",
      "\n",
      "6 th iteration:\n",
      "-1.4169921875\n",
      "-0.571044921875\n",
      "\n",
      "7 th iteration:\n",
      "0.571044921875\n",
      "-2.41632080078125\n",
      "\n",
      "8 th iteration:\n",
      "2.41632080078125\n",
      "-3.6575164794921875\n",
      "\n",
      "9 th iteration:\n",
      "3.6575164794921875\n",
      "-3.984333038330078\n",
      "\n",
      "10 th iteration:\n",
      "3.984333038330078\n",
      "-3.315066337585449\n",
      "\n",
      "11 th iteration:\n",
      "3.315066337585449\n",
      "-1.817033052444458\n",
      "\n",
      "12 th iteration:\n",
      "1.817033052444458\n",
      "0.1352584958076477\n",
      "\n",
      "13 th iteration:\n",
      "-0.1352584958076477\n",
      "2.0537354201078415\n",
      "\n",
      "14 th iteration:\n",
      "-2.0537354201078415\n",
      "3.458778489381075\n",
      "\n",
      "15 th iteration:\n",
      "-3.458778489381075\n",
      "3.9991269363090396\n",
      "\n",
      "16 th iteration:\n",
      "-3.9991269363090396\n",
      "3.5396936491597444\n",
      "\n",
      "17 th iteration:\n",
      "-3.5396936491597444\n",
      "2.195336949720513\n",
      "\n",
      "18 th iteration:\n",
      "-2.195336949720513\n",
      "0.3021460128511535\n",
      "\n",
      "19 th iteration:\n",
      "-0.3021460128511535\n",
      "-1.6665814272309944\n",
      "\n",
      "20 th iteration:\n",
      "1.6665814272309944\n",
      "-3.218663510505394\n",
      "\n"
     ]
    }
   ],
   "source": [
    "from matplotlib.pyplot import bar\n",
    "\n",
    "labels = []\n",
    "L = []\n",
    "for i in range(16):\n",
    "    labels = labels + [i+1]\n",
    "    L  = L + [1]\n",
    "    \n",
    "for i in range(20):\n",
    "    print((i+1),\"th iteration:\")\n",
    "    # flip the sign of the marked element\n",
    "    L[11] = -1 * L[11]\n",
    "    \n",
    "    # print after query phase\n",
    "    print(L[11])\n",
    "    \n",
    "     # summation of all values\n",
    "    sum = 0\n",
    "    for i in range(len(L)):\n",
    "        sum += L[i]\n",
    "\n",
    "    # mean of all values\n",
    "    mean = sum / len(L)\n",
    "\n",
    "    # reflection over mean\n",
    "    for i in range(len(L)):\n",
    "        value = L[i]\n",
    "        new_value = mean - (L[i]-mean)\n",
    "        L[i] = new_value\n",
    "        \n",
    "    # print after inversion phase\n",
    "    print(L[11])\n",
    "    print()"
   ]
  },
  {
   "cell_type": "markdown",
   "metadata": {},
   "source": [
    "<a id=\"task3\"></a>\n",
    "<h3> Task 3 </h3>\n",
    "\n",
    "What are the initial values for the modifed game if $ N=8 $?"
   ]
  },
  {
   "cell_type": "markdown",
   "metadata": {},
   "source": [
    "<h3>Solution</h3>"
   ]
  },
  {
   "cell_type": "markdown",
   "metadata": {},
   "source": [
    "The list is $ [ a,a,a,a,a,a,a,a ] $ at the beginning.\n",
    "\n",
    "If it is a quantum state, then $ 8a^2 = 1 $ and $ a = \\frac{1}{2\\sqrt{2}} $."
   ]
  },
  {
   "cell_type": "markdown",
   "metadata": {},
   "source": [
    "<a id=\"task4\"></a>\n",
    "<h3>Task 4</h3>\n",
    "\n",
    "Iterate the modified game for $ N = 8 $ where the second element is the only marked element.\n",
    "\n",
    "Print the list after each phase.\n",
    "\n",
    "Check whether the length of list is 1 after each iteration."
   ]
  },
  {
   "cell_type": "markdown",
   "metadata": {},
   "source": [
    "<h3>Solution</h3>"
   ]
  },
  {
   "cell_type": "code",
   "execution_count": 10,
   "metadata": {},
   "outputs": [
    {
     "name": "stdout",
     "output_type": "stream",
     "text": [
      "0.354  0.354  0.354  0.354  0.354  0.354  0.354  0.354  \n",
      "1 th iteration:\n",
      "0.354  -0.354  0.354  0.354  0.354  0.354  0.354  0.354  \n",
      "mean =  0.265\n",
      "length of list is 1.0\n",
      "0.177  0.884  0.177  0.177  0.177  0.177  0.177  0.177  \n",
      "\n",
      "2 th iteration:\n",
      "0.177  -0.884  0.177  0.177  0.177  0.177  0.177  0.177  \n",
      "mean =  0.044\n",
      "length of list is 1.0\n",
      "-0.088  0.972  -0.088  -0.088  -0.088  -0.088  -0.088  -0.088  \n",
      "\n",
      "3 th iteration:\n",
      "-0.088  -0.972  -0.088  -0.088  -0.088  -0.088  -0.088  -0.088  \n",
      "mean =  -0.199\n",
      "length of list is 1.0\n",
      "-0.309  0.575  -0.309  -0.309  -0.309  -0.309  -0.309  -0.309  \n",
      "\n",
      "4 th iteration:\n",
      "-0.309  -0.575  -0.309  -0.309  -0.309  -0.309  -0.309  -0.309  \n",
      "mean =  -0.343\n",
      "length of list is 1.0\n",
      "-0.376  -0.11  -0.376  -0.376  -0.376  -0.376  -0.376  -0.376  \n",
      "\n",
      "5 th iteration:\n",
      "-0.376  0.11  -0.376  -0.376  -0.376  -0.376  -0.376  -0.376  \n",
      "mean =  -0.315\n",
      "length of list is 1.0\n",
      "-0.254  -0.74  -0.254  -0.254  -0.254  -0.254  -0.254  -0.254  \n",
      "\n",
      "6 th iteration:\n",
      "-0.254  0.74  -0.254  -0.254  -0.254  -0.254  -0.254  -0.254  \n",
      "mean =  -0.13\n",
      "length of list is 1.0\n",
      "-0.006  -1.0  -0.006  -0.006  -0.006  -0.006  -0.006  -0.006  \n",
      "\n",
      "7 th iteration:\n",
      "-0.006  1.0  -0.006  -0.006  -0.006  -0.006  -0.006  -0.006  \n",
      "mean =  0.12\n",
      "length of list is 1.0\n",
      "0.246  -0.76  0.246  0.246  0.246  0.246  0.246  0.246  \n",
      "\n",
      "8 th iteration:\n",
      "0.246  0.76  0.246  0.246  0.246  0.246  0.246  0.246  \n",
      "mean =  0.31\n",
      "length of list is 1.0\n",
      "0.374  -0.139  0.374  0.374  0.374  0.374  0.374  0.374  \n",
      "\n",
      "9 th iteration:\n",
      "0.374  0.139  0.374  0.374  0.374  0.374  0.374  0.374  \n",
      "mean =  0.345\n",
      "length of list is 1.0\n",
      "0.316  0.55  0.316  0.316  0.316  0.316  0.316  0.316  \n",
      "\n",
      "10 th iteration:\n",
      "0.316  -0.55  0.316  0.316  0.316  0.316  0.316  0.316  \n",
      "mean =  0.207\n",
      "length of list is 1.0\n",
      "0.099  0.965  0.099  0.099  0.099  0.099  0.099  0.099  \n",
      "\n"
     ]
    }
   ],
   "source": [
    "N = 8\n",
    "marked = 1\n",
    "\n",
    "L = []\n",
    "\n",
    "for i in range(N):\n",
    "    L = L + [1/(N**0.5)]\n",
    "\n",
    "# print the elements of a given list with a given precision\n",
    "def print_list(L,precision):\n",
    "    output = \"\"\n",
    "    for i in range(len(L)):\n",
    "        output = output + str(round(L[i],precision))+\"  \"\n",
    "    print(output)\n",
    "\n",
    "print_list(L,3)\n",
    "\n",
    "for i in range(10):\n",
    "    print((i+1),\"th iteration:\")\n",
    "    # flip the sign of the marked element\n",
    "    L[marked] = -1 * L[marked]\n",
    "\n",
    "    # print after query phase\n",
    "    print_list(L,3)\n",
    "    \n",
    "     # summation of all values\n",
    "    sum = 0\n",
    "    for i in range(len(L)):\n",
    "        sum += L[i]\n",
    "\n",
    "    # mean of all values\n",
    "    mean = sum / len(L)\n",
    "    print(\"mean = \",round(mean,3))\n",
    "\n",
    "    # reflection over mean\n",
    "    for i in range(len(L)):\n",
    "        value = L[i]\n",
    "        new_value = mean - (L[i]-mean)\n",
    "        L[i] = new_value\n",
    "        \n",
    "    # calculate the length of the list\n",
    "    length_of_list = 0    \n",
    "    for j in range(len(L)):\n",
    "        length_of_list += L[j]*L[j]\n",
    "    \n",
    "    print(\"length of list is\",round(length_of_list,3))\n",
    "    # print after inversion phase\n",
    "    print_list(L,3)\n",
    "    print()    "
   ]
  },
  {
   "cell_type": "markdown",
   "metadata": {},
   "source": [
    "<a id=\"task5\"></a>\n",
    "<h3>Task 5</h3>\n",
    "\n",
    "Repeat Task 4 for $ N = 16 $ where the marked elements are the first, third and tenth elements."
   ]
  },
  {
   "cell_type": "markdown",
   "metadata": {},
   "source": [
    "<h3>Solution</h3>"
   ]
  },
  {
   "cell_type": "code",
   "execution_count": null,
   "metadata": {},
   "outputs": [],
   "source": [
    "N = 16\n",
    "marked_elements = [0,2,9]\n",
    "\n",
    "L = []\n",
    "\n",
    "for i in range(N):\n",
    "    L = L + [1/(N**0.5)]\n",
    "\n",
    "# print the elements of a given list with a given precision\n",
    "def print_list(L,precision):\n",
    "    output = \"\"\n",
    "    for i in range(len(L)):\n",
    "        output = output + str(round(L[i],precision))+\"  \"\n",
    "    print(output)\n",
    "\n",
    "print_list(L,3)\n",
    "\n",
    "for i in range(10):\n",
    "    print((i+1),\"th iteration:\")\n",
    "    # flip the sign of the marked element\n",
    "    for marked in marked_elements:\n",
    "        L[marked] = -1 * L[marked]\n",
    "\n",
    "    # print after query phase\n",
    "    print_list(L,3)\n",
    "    \n",
    "     # summation of all values\n",
    "    sum = 0\n",
    "    for i in range(len(L)):\n",
    "        sum += L[i]\n",
    "\n",
    "    # mean of all values\n",
    "    mean = sum / len(L)\n",
    "\n",
    "    # reflection over mean\n",
    "    for i in range(len(L)):\n",
    "        value = L[i]\n",
    "        new_value = mean - (L[i]-mean)\n",
    "        L[i] = new_value\n",
    "        \n",
    "    # calculate the length of the list\n",
    "    length_of_list = 0    \n",
    "    for j in range(len(L)):\n",
    "        length_of_list += L[j]*L[j]\n",
    "    \n",
    "    print(\"length of list is\",round(length_of_list,3))\n",
    "    # print after inversion phase\n",
    "    print_list(L,3)\n",
    "    print()    "
   ]
  },
  {
   "cell_type": "markdown",
   "metadata": {},
   "source": [
    "<a id=\"task6\"></a>\n",
    "<h3>Task 6</h3>\n",
    "\n",
    "Repeat Task 4 for $ N = 16 $ where the first 12 elements are marked."
   ]
  },
  {
   "cell_type": "markdown",
   "metadata": {},
   "source": [
    "<h3>Solution</h3>"
   ]
  },
  {
   "cell_type": "code",
   "execution_count": null,
   "metadata": {},
   "outputs": [],
   "source": [
    "N = 16\n",
    "marked_elements = range(12)\n",
    "\n",
    "L = []\n",
    "\n",
    "for i in range(N):\n",
    "    L = L + [1/(N**0.5)]\n",
    "\n",
    "# print the elements of a given list with a given precision\n",
    "def print_list(L,precision):\n",
    "    output = \"\"\n",
    "    for i in range(len(L)):\n",
    "        output = output + str(round(L[i],precision))+\"  \"\n",
    "    print(output)\n",
    "\n",
    "print_list(L,3)\n",
    "\n",
    "for i in range(10):\n",
    "    print((i+1),\"th iteration:\")\n",
    "    # flip the sign of the marked element\n",
    "    for marked in marked_elements:\n",
    "        L[marked] = -1 * L[marked]\n",
    "\n",
    "    # print after query phase\n",
    "    print_list(L,3)\n",
    "    \n",
    "     # summation of all values\n",
    "    sum = 0\n",
    "    for i in range(len(L)):\n",
    "        sum += L[i]\n",
    "\n",
    "    # mean of all values\n",
    "    mean = sum / len(L)\n",
    "\n",
    "    # reflection over mean\n",
    "    for i in range(len(L)):\n",
    "        value = L[i]\n",
    "        new_value = mean - (L[i]-mean)\n",
    "        L[i] = new_value\n",
    "        \n",
    "    # calculate the length of the list\n",
    "    length_of_list = 0    \n",
    "    for j in range(len(L)):\n",
    "        length_of_list += L[j]*L[j]\n",
    "    \n",
    "    print(\"length of list is\",round(length_of_list,3))\n",
    "    # print after inversion phase\n",
    "    print_list(L,3)\n",
    "    print()    "
   ]
  },
  {
   "cell_type": "code",
   "execution_count": null,
   "metadata": {},
   "outputs": [],
   "source": []
  }
 ],
 "metadata": {
  "kernelspec": {
   "display_name": "Python 3",
   "language": "python",
   "name": "python3"
  },
  "language_info": {
   "codemirror_mode": {
    "name": "ipython",
    "version": 3
   },
   "file_extension": ".py",
   "mimetype": "text/x-python",
   "name": "python",
   "nbconvert_exporter": "python",
   "pygments_lexer": "ipython3",
   "version": "3.7.3"
  }
 },
 "nbformat": 4,
 "nbformat_minor": 2
}
